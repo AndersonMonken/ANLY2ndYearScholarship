{
 "cells": [
  {
   "cell_type": "code",
   "execution_count": 1,
   "metadata": {},
   "outputs": [],
   "source": [
    "import requests"
   ]
  },
  {
   "cell_type": "code",
   "execution_count": 2,
   "metadata": {},
   "outputs": [],
   "source": [
    "url = \"https://epa.maps.arcgis.com/apps/webappviewer/index.html?id=33cebcdfdd1b4c3a8b51d416956c41f1&query=Superfund_National_Priorities_List__NPL__Sites_with_Status_Information_7557,SITE_EPA_ID='AL6210020008'\""
   ]
  },
  {
   "cell_type": "code",
   "execution_count": 3,
   "metadata": {},
   "outputs": [
    {
     "name": "stdout",
     "output_type": "stream",
     "text": [
      "b'<!DOCTYPE HTML>\\r\\n<html>\\r\\n<head>\\r\\n  <meta http-equiv=\"Content-Type\" content=\"text/html; charset=utf-8\">\\r\\n  <meta name=\"viewport\" content=\"width=device-width, initial-scale=1.0, maximum-scale=1.0, user-scalable=no\" />\\r\\n  <meta name=\"format-detection\" content=\"telephone=no\">\\r\\n  <meta http-equiv=\"X-UA-Compatible\" content=\"IE=EDGE\" />\\r\\n  <title>ArcGIS Web Application</title>\\r\\n  <link rel=\"shortcut icon\" href=\"images/shortcut.ico\">\\r\\n  <!--[if IE 8]>\\r\\n    <link rel=\"stylesheet\" type=\"text/css\"  href=\"jimu.js/css/jimu-ie.css\" />\\r\\n  <![endif]-->\\r\\n  <style type=\"text/css\">\\r\\n    * {\\r\\n      box-sizing: border-box;\\r\\n    }\\r\\n    body,\\r\\n    html {\\r\\n      width: 100%;\\r\\n      height: 100%;\\r\\n      margin: 0;\\r\\n      padding: 0;\\r\\n      overflow: hidden;\\r\\n    }\\r\\n    #main-loading {\\r\\n      width: 100%;\\r\\n      height: 100%;\\r\\n      text-align: center;\\r\\n      overflow: hidden;\\r\\n    }\\r\\n    #main-page {\\r\\n      display: none;\\r\\n      width: 100%;\\r\\n      height: 100%;\\r\\n      position: relative;\\r\\n    }\\r\\n    #jimu-layout-manager {\\r\\n      width: 100%;\\r\\n      height: 100%;\\r\\n      position: absolute;\\r\\n    }\\r\\n  </style>\\r\\n  <link rel=\"stylesheet\" type=\"text/css\" href=\"configs/loading/loading.css\" />\\r\\n  <script>\\r\\n    /*******************************\\r\\n     * This is the function you can modify to customize the loading page\\r\\n     * This function will be invoked when one resource is loaded.\\r\\n     ********************************/\\r\\n    // var progress;\\r\\n    // function loadingCallback(url, i, count) {\\r\\n    // \\tvar loading = document.getElementById(\\'main-loading-bar\\');\\r\\n    // \\tloading.setAttribute(\\'title\\', url);\\r\\n    //   if(!progress){\\r\\n    //     progress = document.createElement(\\'div\\');\\r\\n    //     progress.setAttribute(\\'class\\', \\'loading-progress\\');\\r\\n    //     loading.appendChild(progress);\\r\\n    //   }\\r\\n    //   progress.style.width = (((i - 1)/count) * 100) + \\'%\\';\\r\\n    // }\\r\\n  </script>\\r\\n</head>\\r\\n\\r\\n<body class=\"claro jimu-main-font\">\\r\\n\\r\\n  <div id=\"main-loading\">\\r\\n\\r\\n    <!-- This is section you can modify to customize the loading page -->\\r\\n    <div id=\"app-loading\"></div>\\r\\n    <div id=\"loading-gif\"></div>\\r\\n\\r\\n    <!-- //////////////////    END    ////////////////////////////// -->\\r\\n    <!--[if IE 8]>\\r\\n    <div id=\"ie-note\" style=\"display:none;\">\\r\\n      <div class=\"hint-title\">Error</div>\\r\\n      <div class=\"hint-img\">Your browser is currently not supported.</div>\\r\\n      <p class=\"hint-text\">\\r\\n        <span>\\r\\n          Please note that creating presentations is not supported in Internet Explorer versions 6, 7.\\r\\n        </span>\\r\\n        <br>\\r\\n        <span>\\r\\n          We recommend upgrading to the latest Internet Explorer, Google Chrome, or Firefox.\\r\\n        </span>\\r\\n        <br>\\r\\n        <span>\\r\\n          If you are using IE 8 or later, make sure you turn off \"Compatibility View\".\\r\\n        </span>\\r\\n      </p>\\r\\n    </div>\\r\\n    <![endif]-->\\r\\n  </div>\\r\\n  <div id=\"main-page\" role=\"application\">\\r\\n    <div class=\"trapLinkNode\" tabindex=\"0\"></div>\\r\\n    <div id=\"jimu-layout-manager\"></div>\\r\\n    <div id=\"skipContainer\"></div>\\r\\n    <div class=\"trapLinkNode\" tabindex=\"0\" aria-label=\"press tab-key again to get away from the current app, press shift&tab-key to focus on skipLinks\"></div>\\r\\n  </div>\\r\\n\\r\\n  <script src=\"env.js\"></script>\\r\\n  <script type=\"text/javascript\" src=\"simpleLoader.js\"></script>\\r\\n  <script type=\"text/javascript\" src=\"init.js\"></script>\\r\\n</body>\\r\\n\\r\\n</html>'\n"
     ]
    }
   ],
   "source": [
    "r = requests.get(url)\n",
    "print(r.content)"
   ]
  },
  {
   "cell_type": "code",
   "execution_count": null,
   "metadata": {},
   "outputs": [],
   "source": []
  },
  {
   "cell_type": "code",
   "execution_count": 7,
   "metadata": {},
   "outputs": [],
   "source": [
    "import nest_asyncio\n",
    "nest_asyncio.apply()"
   ]
  },
  {
   "cell_type": "code",
   "execution_count": 8,
   "metadata": {},
   "outputs": [
    {
     "ename": "AttributeError",
     "evalue": "'Future' object has no attribute 'html'",
     "output_type": "error",
     "traceback": [
      "\u001b[0;31m---------------------------------------------------------------------------\u001b[0m",
      "\u001b[0;31mAttributeError\u001b[0m                            Traceback (most recent call last)",
      "\u001b[0;32m<ipython-input-8-5c5a02b6a5cf>\u001b[0m in \u001b[0;36m<module>\u001b[0;34m\u001b[0m\n\u001b[1;32m      3\u001b[0m \u001b[0mr\u001b[0m \u001b[0;34m=\u001b[0m \u001b[0msession\u001b[0m\u001b[0;34m.\u001b[0m\u001b[0mget\u001b[0m\u001b[0;34m(\u001b[0m\u001b[0murl\u001b[0m\u001b[0;34m)\u001b[0m\u001b[0;34m\u001b[0m\u001b[0;34m\u001b[0m\u001b[0m\n\u001b[1;32m      4\u001b[0m \u001b[0;31m# this call executes the js in the page\u001b[0m\u001b[0;34m\u001b[0m\u001b[0;34m\u001b[0m\u001b[0;34m\u001b[0m\u001b[0m\n\u001b[0;32m----> 5\u001b[0;31m \u001b[0mr\u001b[0m\u001b[0;34m.\u001b[0m\u001b[0mhtml\u001b[0m\u001b[0;34m.\u001b[0m\u001b[0mrender\u001b[0m\u001b[0;34m(\u001b[0m\u001b[0;34m)\u001b[0m\u001b[0;34m\u001b[0m\u001b[0;34m\u001b[0m\u001b[0m\n\u001b[0m",
      "\u001b[0;31mAttributeError\u001b[0m: 'Future' object has no attribute 'html'"
     ]
    }
   ],
   "source": [
    "from requests_html import AsyncHTMLSession\n",
    "session = AsyncHTMLSession()\n",
    "r = session.get(url)\n",
    "# this call executes the js in the page\n",
    "r.html.render()"
   ]
  },
  {
   "cell_type": "code",
   "execution_count": 10,
   "metadata": {},
   "outputs": [],
   "source": [
    "from requests_html import AsyncHTMLSession\n",
    "asession = AsyncHTMLSession()\n",
    "r = asession.get(url)"
   ]
  },
  {
   "cell_type": "code",
   "execution_count": 13,
   "metadata": {},
   "outputs": [
    {
     "ename": "AttributeError",
     "evalue": "'Future' object has no attribute 'html'",
     "output_type": "error",
     "traceback": [
      "\u001b[0;31m---------------------------------------------------------------------------\u001b[0m",
      "\u001b[0;31mAttributeError\u001b[0m                            Traceback (most recent call last)",
      "\u001b[0;32m<ipython-input-13-2a780df765f6>\u001b[0m in \u001b[0;36m<module>\u001b[0;34m\u001b[0m\n\u001b[0;32m----> 1\u001b[0;31m \u001b[0mr\u001b[0m\u001b[0;34m.\u001b[0m\u001b[0mhtml\u001b[0m\u001b[0;34m\u001b[0m\u001b[0;34m\u001b[0m\u001b[0m\n\u001b[0m",
      "\u001b[0;31mAttributeError\u001b[0m: 'Future' object has no attribute 'html'"
     ]
    }
   ],
   "source": [
    "r"
   ]
  },
  {
   "cell_type": "code",
   "execution_count": 20,
   "metadata": {},
   "outputs": [
    {
     "name": "stdout",
     "output_type": "stream",
     "text": [
      "[33.3381, -86.3268, \"https://epa.maps.arcgis.com/apps/webappviewer/index.html?id=33cebcdfdd1b4c3a8b51d416956c41f1&query=Superfund_National_Priorities_List__NPL__Sites_with_Status_Information_7557,SITE_EPA_ID='AL6210020008'\"]\n",
      "[33.3381, -86.3268, \"https://epa.maps.arcgis.com/apps/webappviewer/index.html?id=33cebcdfdd1b4c3a8b51d416956c41f1&query=Superfund_National_Priorities_List__NPL__Sites_with_Status_Information_7557,SITE_EPA_ID='AL6210020008'\"]\n",
      "[33.3381, -86.3268, \"https://epa.maps.arcgis.com/apps/webappviewer/index.html?id=33cebcdfdd1b4c3a8b51d416956c41f1&query=Superfund_National_Priorities_List__NPL__Sites_with_Status_Information_7557,SITE_EPA_ID='AL6210020008'\"]\n",
      "[33.3381, -86.3268, \"https://epa.maps.arcgis.com/apps/webappviewer/index.html?id=33cebcdfdd1b4c3a8b51d416956c41f1&query=Superfund_National_Priorities_List__NPL__Sites_with_Status_Information_7557,SITE_EPA_ID='AL6210020008'\"]\n",
      "[33.3381, -86.3268, \"https://epa.maps.arcgis.com/apps/webappviewer/index.html?id=33cebcdfdd1b4c3a8b51d416956c41f1&query=Superfund_National_Priorities_List__NPL__Sites_with_Status_Information_7557,SITE_EPA_ID='AL6210020008'\"]\n",
      "[33.3381, -86.3268, \"https://epa.maps.arcgis.com/apps/webappviewer/index.html?id=33cebcdfdd1b4c3a8b51d416956c41f1&query=Superfund_National_Priorities_List__NPL__Sites_with_Status_Information_7557,SITE_EPA_ID='AL6210020008'\"]\n",
      "[33.3381, -86.3268, \"https://epa.maps.arcgis.com/apps/webappviewer/index.html?id=33cebcdfdd1b4c3a8b51d416956c41f1&query=Superfund_National_Priorities_List__NPL__Sites_with_Status_Information_7557,SITE_EPA_ID='AL6210020008'\"]\n",
      "[33.3381, -86.3268, \"https://epa.maps.arcgis.com/apps/webappviewer/index.html?id=33cebcdfdd1b4c3a8b51d416956c41f1&query=Superfund_National_Priorities_List__NPL__Sites_with_Status_Information_7557,SITE_EPA_ID='AL6210020008'\"]\n",
      "[33.3381, -86.3268, \"https://epa.maps.arcgis.com/apps/webappviewer/index.html?id=33cebcdfdd1b4c3a8b51d416956c41f1&query=Superfund_National_Priorities_List__NPL__Sites_with_Status_Information_7557,SITE_EPA_ID='AL6210020008'\"]\n",
      "[33.3381, -86.3268, \"https://epa.maps.arcgis.com/apps/webappviewer/index.html?id=33cebcdfdd1b4c3a8b51d416956c41f1&query=Superfund_National_Priorities_List__NPL__Sites_with_Status_Information_7557,SITE_EPA_ID='AL6210020008'\"]\n"
     ]
    }
   ],
   "source": [
    "import requests\n",
    "from urllib.parse import urljoin\n",
    "from multiprocessing.pool import ThreadPool, Pool\n",
    "from bs4 import BeautifulSoup\n",
    "from selenium import webdriver\n",
    "import threading\n",
    "from time import sleep\n",
    "\n",
    "def get_links(link):\n",
    "  res = requests.get(link)\n",
    "  soup = BeautifulSoup(res.text,\"lxml\")\n",
    "  titles = [urljoin(url,items.get(\"href\")) for items in soup.select(\".summary .question-hyperlink\")]\n",
    "  return titles\n",
    "\n",
    "threadLocal = threading.local()\n",
    "\n",
    "def get_driver():\n",
    "  driver = getattr(threadLocal, 'driver', None)\n",
    "  if driver is None:\n",
    "    fireFoxOptions = webdriver.FirefoxOptions()\n",
    "    fireFoxOptions.headless = True\n",
    "    driver = webdriver.Firefox(options=fireFoxOptions)\n",
    "    setattr(threadLocal, 'driver', driver)\n",
    "  return driver\n",
    "\n",
    "\n",
    "def get_title(url):\n",
    "    driver = get_driver()\n",
    "    \n",
    "    try:\n",
    "        driver.get(url)\n",
    "        sleep(5)\n",
    "        site_source = driver.page_source\n",
    "        soup = BeautifulSoup(site_source, 'html.parser')\n",
    "        scrap_tables = soup.findAll('table')\n",
    "        lat_long = scrap_tables[0].findAll('span')[2:4]\n",
    "        lat_long = [float(x.get_text(strip = True)) for x in lat_long] + [url]\n",
    "    except:\n",
    "        lat_long = [np.nan, np.nan, url]\n",
    "    print(lat_long)\n",
    "    return lat_long\n",
    "if __name__ == '__main__':\n",
    "    url = \"https://epa.maps.arcgis.com/apps/webappviewer/index.html?id=33cebcdfdd1b4c3a8b51d416956c41f1&query=Superfund_National_Priorities_List__NPL__Sites_with_Status_Information_7557,SITE_EPA_ID='AL6210020008'\"\n",
    "    ThreadPool(10).map(get_title,[url]*10)"
   ]
  },
  {
   "cell_type": "code",
   "execution_count": 16,
   "metadata": {},
   "outputs": [],
   "source": [
    "url = \"https://epa.maps.arcgis.com/apps/webappviewer/index.html?id=33cebcdfdd1b4c3a8b51d416956c41f1&query=Superfund_National_Priorities_List__NPL__Sites_with_Status_Information_7557,SITE_EPA_ID='AL6210020008'\""
   ]
  }
 ],
 "metadata": {
  "kernelspec": {
   "display_name": "Python 3",
   "language": "python",
   "name": "python3"
  },
  "language_info": {
   "codemirror_mode": {
    "name": "ipython",
    "version": 3
   },
   "file_extension": ".py",
   "mimetype": "text/x-python",
   "name": "python",
   "nbconvert_exporter": "python",
   "pygments_lexer": "ipython3",
   "version": "3.7.4"
  }
 },
 "nbformat": 4,
 "nbformat_minor": 4
}
