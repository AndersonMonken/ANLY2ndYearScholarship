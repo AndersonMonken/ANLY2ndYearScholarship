{
 "cells": [
  {
   "cell_type": "code",
   "execution_count": 3,
   "metadata": {},
   "outputs": [],
   "source": [
    "# packages\n",
    "import pandas as pd\n",
    "import pickle"
   ]
  },
  {
   "cell_type": "code",
   "execution_count": 4,
   "metadata": {},
   "outputs": [],
   "source": [
    "df_sites = pickle.load(open('df_superfund_geo.pkl','rb'))"
   ]
  },
  {
   "cell_type": "code",
   "execution_count": 8,
   "metadata": {},
   "outputs": [
    {
     "data": {
      "text/html": [
       "<div>\n",
       "<style scoped>\n",
       "    .dataframe tbody tr th:only-of-type {\n",
       "        vertical-align: middle;\n",
       "    }\n",
       "\n",
       "    .dataframe tbody tr th {\n",
       "        vertical-align: top;\n",
       "    }\n",
       "\n",
       "    .dataframe thead th {\n",
       "        text-align: right;\n",
       "    }\n",
       "</style>\n",
       "<table border=\"1\" class=\"dataframe\">\n",
       "  <thead>\n",
       "    <tr style=\"text-align: right;\">\n",
       "      <th></th>\n",
       "      <th>Site Name</th>\n",
       "      <th>City</th>\n",
       "      <th>Site EPA ID</th>\n",
       "      <th>Listing Date</th>\n",
       "      <th>Site Score</th>\n",
       "      <th>FederalFacilityIndicator</th>\n",
       "      <th>Additional Information</th>\n",
       "      <th>Site Location</th>\n",
       "      <th>State</th>\n",
       "      <th>URL</th>\n",
       "      <th>latitude</th>\n",
       "      <th>longitude</th>\n",
       "      <th>test_index</th>\n",
       "      <th>test_url</th>\n",
       "    </tr>\n",
       "  </thead>\n",
       "  <tbody>\n",
       "    <tr>\n",
       "      <th>0</th>\n",
       "      <td>Alabama Army Ammunition Plant</td>\n",
       "      <td>Childersburg</td>\n",
       "      <td>AL6210020008</td>\n",
       "      <td>07/22/1987</td>\n",
       "      <td>36.83</td>\n",
       "      <td>Yes</td>\n",
       "      <td>Site Listing NarrativeSite Progress ProfileFed...</td>\n",
       "      <td>Site Location</td>\n",
       "      <td>Alabama</td>\n",
       "      <td>https://epa.maps.arcgis.com/apps/webappviewer/...</td>\n",
       "      <td>33.338100</td>\n",
       "      <td>-86.326800</td>\n",
       "      <td>0</td>\n",
       "      <td>https://epa.maps.arcgis.com/apps/webappviewer/...</td>\n",
       "    </tr>\n",
       "    <tr>\n",
       "      <th>1</th>\n",
       "      <td>Alabama Plating Company, Inc.</td>\n",
       "      <td>Vincent</td>\n",
       "      <td>ALD004022448</td>\n",
       "      <td>09/18/2012</td>\n",
       "      <td>30.20</td>\n",
       "      <td>No</td>\n",
       "      <td>Site Listing NarrativeSite Progress ProfileFed...</td>\n",
       "      <td>Site Location</td>\n",
       "      <td>Alabama</td>\n",
       "      <td>https://epa.maps.arcgis.com/apps/webappviewer/...</td>\n",
       "      <td>33.399722</td>\n",
       "      <td>-86.405000</td>\n",
       "      <td>1</td>\n",
       "      <td>https://epa.maps.arcgis.com/apps/webappviewer/...</td>\n",
       "    </tr>\n",
       "    <tr>\n",
       "      <th>2</th>\n",
       "      <td>American Brass</td>\n",
       "      <td>Headland</td>\n",
       "      <td>ALD981868466</td>\n",
       "      <td>05/10/1999</td>\n",
       "      <td>55.61</td>\n",
       "      <td>No</td>\n",
       "      <td>Site Listing NarrativeSite Progress ProfileFed...</td>\n",
       "      <td>Site Location</td>\n",
       "      <td>Alabama</td>\n",
       "      <td>https://epa.maps.arcgis.com/apps/webappviewer/...</td>\n",
       "      <td>31.325000</td>\n",
       "      <td>-85.404167</td>\n",
       "      <td>2</td>\n",
       "      <td>https://epa.maps.arcgis.com/apps/webappviewer/...</td>\n",
       "    </tr>\n",
       "    <tr>\n",
       "      <th>3</th>\n",
       "      <td>Anniston Army Depot (Southeast Industrial Area)</td>\n",
       "      <td>Anniston</td>\n",
       "      <td>AL3210020027</td>\n",
       "      <td>03/13/1989</td>\n",
       "      <td>51.91</td>\n",
       "      <td>Yes</td>\n",
       "      <td>Site Listing NarrativeSite Progress ProfileFed...</td>\n",
       "      <td>Site Location</td>\n",
       "      <td>Alabama</td>\n",
       "      <td>https://epa.maps.arcgis.com/apps/webappviewer/...</td>\n",
       "      <td>33.659439</td>\n",
       "      <td>-85.969439</td>\n",
       "      <td>3</td>\n",
       "      <td>https://epa.maps.arcgis.com/apps/webappviewer/...</td>\n",
       "    </tr>\n",
       "    <tr>\n",
       "      <th>4</th>\n",
       "      <td>Ciba-Geigy Corp. (McIntosh Plant)</td>\n",
       "      <td>McIntosh</td>\n",
       "      <td>ALD001221902</td>\n",
       "      <td>09/21/1984</td>\n",
       "      <td>53.42</td>\n",
       "      <td>No</td>\n",
       "      <td>Site Listing NarrativeSite Progress ProfileFed...</td>\n",
       "      <td>Site Location</td>\n",
       "      <td>Alabama</td>\n",
       "      <td>https://epa.maps.arcgis.com/apps/webappviewer/...</td>\n",
       "      <td>31.279000</td>\n",
       "      <td>-87.995500</td>\n",
       "      <td>4</td>\n",
       "      <td>https://epa.maps.arcgis.com/apps/webappviewer/...</td>\n",
       "    </tr>\n",
       "  </tbody>\n",
       "</table>\n",
       "</div>"
      ],
      "text/plain": [
       "                                         Site Name          City  \\\n",
       "0                    Alabama Army Ammunition Plant  Childersburg   \n",
       "1                    Alabama Plating Company, Inc.       Vincent   \n",
       "2                                   American Brass      Headland   \n",
       "3  Anniston Army Depot (Southeast Industrial Area)      Anniston   \n",
       "4                Ciba-Geigy Corp. (McIntosh Plant)      McIntosh   \n",
       "\n",
       "    Site EPA ID Listing Date Site Score FederalFacilityIndicator  \\\n",
       "0  AL6210020008   07/22/1987      36.83                      Yes   \n",
       "1  ALD004022448   09/18/2012      30.20                       No   \n",
       "2  ALD981868466   05/10/1999      55.61                       No   \n",
       "3  AL3210020027   03/13/1989      51.91                      Yes   \n",
       "4  ALD001221902   09/21/1984      53.42                       No   \n",
       "\n",
       "                              Additional Information  Site Location    State  \\\n",
       "0  Site Listing NarrativeSite Progress ProfileFed...  Site Location  Alabama   \n",
       "1  Site Listing NarrativeSite Progress ProfileFed...  Site Location  Alabama   \n",
       "2  Site Listing NarrativeSite Progress ProfileFed...  Site Location  Alabama   \n",
       "3  Site Listing NarrativeSite Progress ProfileFed...  Site Location  Alabama   \n",
       "4  Site Listing NarrativeSite Progress ProfileFed...  Site Location  Alabama   \n",
       "\n",
       "                                                 URL   latitude  longitude  \\\n",
       "0  https://epa.maps.arcgis.com/apps/webappviewer/...  33.338100 -86.326800   \n",
       "1  https://epa.maps.arcgis.com/apps/webappviewer/...  33.399722 -86.405000   \n",
       "2  https://epa.maps.arcgis.com/apps/webappviewer/...  31.325000 -85.404167   \n",
       "3  https://epa.maps.arcgis.com/apps/webappviewer/...  33.659439 -85.969439   \n",
       "4  https://epa.maps.arcgis.com/apps/webappviewer/...  31.279000 -87.995500   \n",
       "\n",
       "   test_index                                           test_url  \n",
       "0           0  https://epa.maps.arcgis.com/apps/webappviewer/...  \n",
       "1           1  https://epa.maps.arcgis.com/apps/webappviewer/...  \n",
       "2           2  https://epa.maps.arcgis.com/apps/webappviewer/...  \n",
       "3           3  https://epa.maps.arcgis.com/apps/webappviewer/...  \n",
       "4           4  https://epa.maps.arcgis.com/apps/webappviewer/...  "
      ]
     },
     "execution_count": 8,
     "metadata": {},
     "output_type": "execute_result"
    }
   ],
   "source": [
    "df_sites.head()"
   ]
  },
  {
   "cell_type": "code",
   "execution_count": 9,
   "metadata": {},
   "outputs": [
    {
     "name": "stdout",
     "output_type": "stream",
     "text": [
      "28[ARD990660649]\n",
      "121[CAT080012826]\n",
      "145[COD980499255]\n",
      "158[CTD980521165]\n",
      "162[CTD001186618]\n",
      "180[DED000606079]\n",
      "242[GAD099303182]\n",
      "252[GUD980637649]\n",
      "295[ILD000802827]\n",
      "345[IND040313017]\n",
      "446[MAD980731335]\n",
      "462[MI0001119106]\n",
      "480[MID980506281]\n",
      "543[MND980609804]\n",
      "566[MOD980633010]\n",
      "603[MT0009083840]\n",
      "645[NHD099363541]\n",
      "686[NJN000206317]\n",
      "727[NJD070281175]\n",
      "756[NJD980755623]\n",
      "777[NMD980745558]\n",
      "781[NYD982531469]\n",
      "800[NYD981560923]\n",
      "823[NY0001233634]\n",
      "840[NYD000511659]\n",
      "905[OHD074727793]\n",
      "952[ORN001002476]\n",
      "1052[PRN000204694]\n",
      "1078[RID980579056]\n",
      "1103[SCD000622787]\n",
      "1159[TXD980629851]\n",
      "1206[VTD980523062]\n",
      "1244[WAD009624453]\n",
      "1297[WVD980713036]\n",
      "1318[WID083290981]\n"
     ]
    }
   ],
   "source": [
    "# Missing site scores\n",
    "for i,x in df_sites.iterrows():\n",
    "    try:\n",
    "        temp = float(x['Site Score'])\n",
    "    except:\n",
    "        print(f'{i}[{x[\"Site EPA ID\"]}]')"
   ]
  },
  {
   "cell_type": "code",
   "execution_count": 15,
   "metadata": {},
   "outputs": [],
   "source": [
    "# convert string to numeric site score\n",
    "# replacing empty strings with null\n",
    "list_scores = []\n",
    "for i,x in df_sites.iterrows():\n",
    "    try:\n",
    "        list_scores.append(float(x['Site Score']))\n",
    "    except:\n",
    "        list_scores.append(None)\n",
    "df_sites['site_score'] = list_scores"
   ]
  },
  {
   "cell_type": "code",
   "execution_count": 17,
   "metadata": {},
   "outputs": [
    {
     "data": {
      "text/plain": [
       "array(['Site Location'], dtype=object)"
      ]
     },
     "execution_count": 17,
     "metadata": {},
     "output_type": "execute_result"
    }
   ],
   "source": [
    "# only one entry option for site location\n",
    "df_sites['Site Location'].unique()"
   ]
  },
  {
   "cell_type": "code",
   "execution_count": null,
   "metadata": {},
   "outputs": [],
   "source": [
    "# cancer rates are for 2012-2016. Both time site has been active and severity of the site could play a role\n"
   ]
  }
 ],
 "metadata": {
  "kernelspec": {
   "display_name": "Python 3",
   "language": "python",
   "name": "python3"
  },
  "language_info": {
   "codemirror_mode": {
    "name": "ipython",
    "version": 3
   },
   "file_extension": ".py",
   "mimetype": "text/x-python",
   "name": "python",
   "nbconvert_exporter": "python",
   "pygments_lexer": "ipython3",
   "version": "3.7.4"
  }
 },
 "nbformat": 4,
 "nbformat_minor": 4
}
