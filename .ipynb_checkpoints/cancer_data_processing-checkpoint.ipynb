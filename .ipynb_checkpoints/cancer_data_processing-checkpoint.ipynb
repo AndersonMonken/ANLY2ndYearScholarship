{
 "cells": [
  {
   "cell_type": "code",
   "execution_count": 1,
   "metadata": {},
   "outputs": [],
   "source": [
    "# import libraries\n",
    "import pandas as pd\n",
    "import numpy as np\n",
    "import seaborn as sns\n",
    "import pickle\n",
    "import plotly.express as px"
   ]
  },
  {
   "cell_type": "code",
   "execution_count": 2,
   "metadata": {},
   "outputs": [
    {
     "data": {
      "text/html": [
       "<div>\n",
       "<style scoped>\n",
       "    .dataframe tbody tr th:only-of-type {\n",
       "        vertical-align: middle;\n",
       "    }\n",
       "\n",
       "    .dataframe tbody tr th {\n",
       "        vertical-align: top;\n",
       "    }\n",
       "\n",
       "    .dataframe thead th {\n",
       "        text-align: right;\n",
       "    }\n",
       "</style>\n",
       "<table border=\"1\" class=\"dataframe\">\n",
       "  <thead>\n",
       "    <tr style=\"text-align: right;\">\n",
       "      <th></th>\n",
       "      <th>State</th>\n",
       "      <th>FIPS</th>\n",
       "      <th>Age-AdjustedCANCERcases_per100000</th>\n",
       "      <th>Lower 95% Confidence Interval</th>\n",
       "      <th>Upper 95% Confidence Interval</th>\n",
       "      <th>Average Annual Count</th>\n",
       "      <th>Recent Trend</th>\n",
       "      <th>Recent 5-Year Tren in Incidence Rates</th>\n",
       "      <th>Lower 95%CI</th>\n",
       "      <th>Upper 95% CI</th>\n",
       "    </tr>\n",
       "  </thead>\n",
       "  <tbody>\n",
       "    <tr>\n",
       "      <th>0</th>\n",
       "      <td>US (SEER+NPCR)(1,10)</td>\n",
       "      <td>0</td>\n",
       "      <td>448</td>\n",
       "      <td>447.7</td>\n",
       "      <td>448.4</td>\n",
       "      <td>1638110</td>\n",
       "      <td>falling</td>\n",
       "      <td>-0.9</td>\n",
       "      <td>-1.6</td>\n",
       "      <td>-0.1</td>\n",
       "    </tr>\n",
       "    <tr>\n",
       "      <th>1</th>\n",
       "      <td>Union County, Florida(6,10)</td>\n",
       "      <td>12125</td>\n",
       "      <td>1135</td>\n",
       "      <td>1063.6</td>\n",
       "      <td>1210.1</td>\n",
       "      <td>208</td>\n",
       "      <td>falling</td>\n",
       "      <td>-4.6</td>\n",
       "      <td>-5.1</td>\n",
       "      <td>-4.1</td>\n",
       "    </tr>\n",
       "    <tr>\n",
       "      <th>2</th>\n",
       "      <td>Logan County, Nebraska(6,10)</td>\n",
       "      <td>31113</td>\n",
       "      <td>677.2</td>\n",
       "      <td>455.0</td>\n",
       "      <td>974.3</td>\n",
       "      <td>7</td>\n",
       "      <td>stable</td>\n",
       "      <td>1.2</td>\n",
       "      <td>-41</td>\n",
       "      <td>73.4</td>\n",
       "    </tr>\n",
       "    <tr>\n",
       "      <th>3</th>\n",
       "      <td>Powell County, Kentucky(7,8)</td>\n",
       "      <td>21197</td>\n",
       "      <td>646.2</td>\n",
       "      <td>586.6</td>\n",
       "      <td>710.3</td>\n",
       "      <td>92</td>\n",
       "      <td>stable</td>\n",
       "      <td>1.1</td>\n",
       "      <td>-0.4</td>\n",
       "      <td>2.6</td>\n",
       "    </tr>\n",
       "    <tr>\n",
       "      <th>4</th>\n",
       "      <td>Taylor County, Kentucky(7,8)</td>\n",
       "      <td>21217</td>\n",
       "      <td>623.3</td>\n",
       "      <td>583.7</td>\n",
       "      <td>665.0</td>\n",
       "      <td>196</td>\n",
       "      <td>rising</td>\n",
       "      <td>1.4</td>\n",
       "      <td>0.7</td>\n",
       "      <td>2.2</td>\n",
       "    </tr>\n",
       "  </tbody>\n",
       "</table>\n",
       "</div>"
      ],
      "text/plain": [
       "                          State   FIPS Age-AdjustedCANCERcases_per100000  \\\n",
       "0          US (SEER+NPCR)(1,10)      0                               448   \n",
       "1   Union County, Florida(6,10)  12125                              1135   \n",
       "2  Logan County, Nebraska(6,10)  31113                             677.2   \n",
       "3  Powell County, Kentucky(7,8)  21197                             646.2   \n",
       "4  Taylor County, Kentucky(7,8)  21217                             623.3   \n",
       "\n",
       "   Lower 95% Confidence Interval  Upper 95% Confidence Interval  \\\n",
       "0                          447.7                          448.4   \n",
       "1                         1063.6                         1210.1   \n",
       "2                          455.0                          974.3   \n",
       "3                          586.6                          710.3   \n",
       "4                          583.7                          665.0   \n",
       "\n",
       "   Average Annual Count Recent Trend Recent 5-Year Tren in Incidence Rates  \\\n",
       "0               1638110      falling                                  -0.9   \n",
       "1                   208      falling                                  -4.6   \n",
       "2                     7       stable                                   1.2   \n",
       "3                    92       stable                                   1.1   \n",
       "4                   196       rising                                   1.4   \n",
       "\n",
       "  Lower 95%CI Upper 95% CI  \n",
       "0        -1.6         -0.1  \n",
       "1        -5.1         -4.1  \n",
       "2         -41         73.4  \n",
       "3        -0.4          2.6  \n",
       "4         0.7          2.2  "
      ]
     },
     "execution_count": 2,
     "metadata": {},
     "output_type": "execute_result"
    }
   ],
   "source": [
    "df_cancer = pd.read_csv('USA_CancerRates_All_ByCounty_RAW.csv',skiprows=11,header = 0)\n",
    "df_cancer.head()"
   ]
  },
  {
   "cell_type": "code",
   "execution_count": 3,
   "metadata": {},
   "outputs": [
    {
     "data": {
      "text/plain": [
       "Index(['State', ' FIPS', 'Age-AdjustedCANCERcases_per100000',\n",
       "       'Lower 95% Confidence Interval', 'Upper 95% Confidence Interval',\n",
       "       'Average Annual Count', 'Recent Trend',\n",
       "       'Recent 5-Year Tren in Incidence Rates', 'Lower 95%CI', 'Upper 95% CI'],\n",
       "      dtype='object')"
      ]
     },
     "execution_count": 3,
     "metadata": {},
     "output_type": "execute_result"
    }
   ],
   "source": [
    "# rename columns\n",
    "df_cancer.columns"
   ]
  },
  {
   "cell_type": "code",
   "execution_count": 4,
   "metadata": {},
   "outputs": [],
   "source": [
    "df_cancer.columns = ['location', 'fips', 'cancer_per100k',\n",
    "       'cancer_95ciL', 'cancer_95ciH',\n",
    "       'avg_annual_count', 'recent_trend',\n",
    "       'trend5yr', 'trend5yr_95ciL', 'trend5yr_95ciH']"
   ]
  },
  {
   "cell_type": "code",
   "execution_count": 5,
   "metadata": {},
   "outputs": [
    {
     "data": {
      "text/html": [
       "<div>\n",
       "<style scoped>\n",
       "    .dataframe tbody tr th:only-of-type {\n",
       "        vertical-align: middle;\n",
       "    }\n",
       "\n",
       "    .dataframe tbody tr th {\n",
       "        vertical-align: top;\n",
       "    }\n",
       "\n",
       "    .dataframe thead th {\n",
       "        text-align: right;\n",
       "    }\n",
       "</style>\n",
       "<table border=\"1\" class=\"dataframe\">\n",
       "  <thead>\n",
       "    <tr style=\"text-align: right;\">\n",
       "      <th></th>\n",
       "      <th>location</th>\n",
       "      <th>fips</th>\n",
       "      <th>cancer_per100k</th>\n",
       "      <th>cancer_95ciL</th>\n",
       "      <th>cancer_95ciH</th>\n",
       "      <th>avg_annual_count</th>\n",
       "      <th>recent_trend</th>\n",
       "      <th>trend5yr</th>\n",
       "      <th>trend5yr_95ciL</th>\n",
       "      <th>trend5yr_95ciH</th>\n",
       "    </tr>\n",
       "  </thead>\n",
       "  <tbody>\n",
       "    <tr>\n",
       "      <th>0</th>\n",
       "      <td>US (SEER+NPCR)(1,10)</td>\n",
       "      <td>0</td>\n",
       "      <td>448</td>\n",
       "      <td>447.7</td>\n",
       "      <td>448.4</td>\n",
       "      <td>1638110</td>\n",
       "      <td>falling</td>\n",
       "      <td>-0.9</td>\n",
       "      <td>-1.6</td>\n",
       "      <td>-0.1</td>\n",
       "    </tr>\n",
       "    <tr>\n",
       "      <th>1</th>\n",
       "      <td>Union County, Florida(6,10)</td>\n",
       "      <td>12125</td>\n",
       "      <td>1135</td>\n",
       "      <td>1063.6</td>\n",
       "      <td>1210.1</td>\n",
       "      <td>208</td>\n",
       "      <td>falling</td>\n",
       "      <td>-4.6</td>\n",
       "      <td>-5.1</td>\n",
       "      <td>-4.1</td>\n",
       "    </tr>\n",
       "    <tr>\n",
       "      <th>2</th>\n",
       "      <td>Logan County, Nebraska(6,10)</td>\n",
       "      <td>31113</td>\n",
       "      <td>677.2</td>\n",
       "      <td>455.0</td>\n",
       "      <td>974.3</td>\n",
       "      <td>7</td>\n",
       "      <td>stable</td>\n",
       "      <td>1.2</td>\n",
       "      <td>-41</td>\n",
       "      <td>73.4</td>\n",
       "    </tr>\n",
       "    <tr>\n",
       "      <th>3</th>\n",
       "      <td>Powell County, Kentucky(7,8)</td>\n",
       "      <td>21197</td>\n",
       "      <td>646.2</td>\n",
       "      <td>586.6</td>\n",
       "      <td>710.3</td>\n",
       "      <td>92</td>\n",
       "      <td>stable</td>\n",
       "      <td>1.1</td>\n",
       "      <td>-0.4</td>\n",
       "      <td>2.6</td>\n",
       "    </tr>\n",
       "    <tr>\n",
       "      <th>4</th>\n",
       "      <td>Taylor County, Kentucky(7,8)</td>\n",
       "      <td>21217</td>\n",
       "      <td>623.3</td>\n",
       "      <td>583.7</td>\n",
       "      <td>665.0</td>\n",
       "      <td>196</td>\n",
       "      <td>rising</td>\n",
       "      <td>1.4</td>\n",
       "      <td>0.7</td>\n",
       "      <td>2.2</td>\n",
       "    </tr>\n",
       "    <tr>\n",
       "      <th>...</th>\n",
       "      <td>...</td>\n",
       "      <td>...</td>\n",
       "      <td>...</td>\n",
       "      <td>...</td>\n",
       "      <td>...</td>\n",
       "      <td>...</td>\n",
       "      <td>...</td>\n",
       "      <td>...</td>\n",
       "      <td>...</td>\n",
       "      <td>...</td>\n",
       "    </tr>\n",
       "    <tr>\n",
       "      <th>2927</th>\n",
       "      <td>Summit County, Colorado(6,10)</td>\n",
       "      <td>8117</td>\n",
       "      <td>241</td>\n",
       "      <td>212.1</td>\n",
       "      <td>272.7</td>\n",
       "      <td>70</td>\n",
       "      <td>stable</td>\n",
       "      <td>-6.8</td>\n",
       "      <td>-14.9</td>\n",
       "      <td>2.1</td>\n",
       "    </tr>\n",
       "    <tr>\n",
       "      <th>2928</th>\n",
       "      <td>Jeff Davis County, Texas(6,10)</td>\n",
       "      <td>48243</td>\n",
       "      <td>237.1</td>\n",
       "      <td>173.2</td>\n",
       "      <td>330.1</td>\n",
       "      <td>11</td>\n",
       "      <td>stable</td>\n",
       "      <td>-2.1</td>\n",
       "      <td>-41.5</td>\n",
       "      <td>63.6</td>\n",
       "    </tr>\n",
       "    <tr>\n",
       "      <th>2929</th>\n",
       "      <td>Rich County, Utah(7,8)</td>\n",
       "      <td>49033</td>\n",
       "      <td>235.3</td>\n",
       "      <td>160.1</td>\n",
       "      <td>335.8</td>\n",
       "      <td>7</td>\n",
       "      <td>falling</td>\n",
       "      <td>-2.3</td>\n",
       "      <td>-4.4</td>\n",
       "      <td>-0.1</td>\n",
       "    </tr>\n",
       "    <tr>\n",
       "      <th>2930</th>\n",
       "      <td>Eureka County, Nevada(6,10)</td>\n",
       "      <td>32011</td>\n",
       "      <td>227.5</td>\n",
       "      <td>149.1</td>\n",
       "      <td>335.9</td>\n",
       "      <td>6</td>\n",
       "      <td>falling</td>\n",
       "      <td>-12.9</td>\n",
       "      <td>-23.8</td>\n",
       "      <td>-0.3</td>\n",
       "    </tr>\n",
       "    <tr>\n",
       "      <th>2931</th>\n",
       "      <td>Culberson County, Texas(6,10)</td>\n",
       "      <td>48109</td>\n",
       "      <td>218.1</td>\n",
       "      <td>149.1</td>\n",
       "      <td>310.8</td>\n",
       "      <td>7</td>\n",
       "      <td>stable</td>\n",
       "      <td>17.1</td>\n",
       "      <td>-31.6</td>\n",
       "      <td>100.7</td>\n",
       "    </tr>\n",
       "  </tbody>\n",
       "</table>\n",
       "<p>2932 rows × 10 columns</p>\n",
       "</div>"
      ],
      "text/plain": [
       "                            location   fips cancer_per100k  cancer_95ciL  \\\n",
       "0               US (SEER+NPCR)(1,10)      0            448         447.7   \n",
       "1        Union County, Florida(6,10)  12125           1135        1063.6   \n",
       "2       Logan County, Nebraska(6,10)  31113          677.2         455.0   \n",
       "3       Powell County, Kentucky(7,8)  21197          646.2         586.6   \n",
       "4       Taylor County, Kentucky(7,8)  21217          623.3         583.7   \n",
       "...                              ...    ...            ...           ...   \n",
       "2927   Summit County, Colorado(6,10)   8117            241         212.1   \n",
       "2928  Jeff Davis County, Texas(6,10)  48243          237.1         173.2   \n",
       "2929          Rich County, Utah(7,8)  49033          235.3         160.1   \n",
       "2930     Eureka County, Nevada(6,10)  32011          227.5         149.1   \n",
       "2931   Culberson County, Texas(6,10)  48109          218.1         149.1   \n",
       "\n",
       "      cancer_95ciH  avg_annual_count recent_trend trend5yr trend5yr_95ciL  \\\n",
       "0            448.4           1638110      falling     -0.9           -1.6   \n",
       "1           1210.1               208      falling     -4.6           -5.1   \n",
       "2            974.3                 7       stable      1.2            -41   \n",
       "3            710.3                92       stable      1.1           -0.4   \n",
       "4            665.0               196       rising      1.4            0.7   \n",
       "...            ...               ...          ...      ...            ...   \n",
       "2927         272.7                70       stable     -6.8          -14.9   \n",
       "2928         330.1                11       stable     -2.1          -41.5   \n",
       "2929         335.8                 7      falling     -2.3           -4.4   \n",
       "2930         335.9                 6      falling    -12.9          -23.8   \n",
       "2931         310.8                 7       stable     17.1          -31.6   \n",
       "\n",
       "     trend5yr_95ciH  \n",
       "0              -0.1  \n",
       "1              -4.1  \n",
       "2              73.4  \n",
       "3               2.6  \n",
       "4               2.2  \n",
       "...             ...  \n",
       "2927            2.1  \n",
       "2928           63.6  \n",
       "2929           -0.1  \n",
       "2930           -0.3  \n",
       "2931          100.7  \n",
       "\n",
       "[2932 rows x 10 columns]"
      ]
     },
     "execution_count": 5,
     "metadata": {},
     "output_type": "execute_result"
    }
   ],
   "source": [
    "df_cancer"
   ]
  },
  {
   "cell_type": "markdown",
   "metadata": {},
   "source": [
    "## Check all columns for cleaniness"
   ]
  },
  {
   "cell_type": "code",
   "execution_count": 6,
   "metadata": {},
   "outputs": [
    {
     "data": {
      "text/plain": [
       "location             object\n",
       "fips                  int64\n",
       "cancer_per100k       object\n",
       "cancer_95ciL        float64\n",
       "cancer_95ciH        float64\n",
       "avg_annual_count      int64\n",
       "recent_trend         object\n",
       "trend5yr             object\n",
       "trend5yr_95ciL       object\n",
       "trend5yr_95ciH       object\n",
       "dtype: object"
      ]
     },
     "execution_count": 6,
     "metadata": {},
     "output_type": "execute_result"
    }
   ],
   "source": [
    "df_cancer.dtypes"
   ]
  },
  {
   "cell_type": "code",
   "execution_count": 7,
   "metadata": {},
   "outputs": [
    {
     "data": {
      "text/plain": [
       "count     2931.000000\n",
       "mean     30866.582395\n",
       "std      15505.482287\n",
       "min       1001.000000\n",
       "25%      18086.000000\n",
       "50%      31025.000000\n",
       "75%      46082.000000\n",
       "max      72001.000000\n",
       "Name: fips, dtype: float64"
      ]
     },
     "execution_count": 7,
     "metadata": {},
     "output_type": "execute_result"
    }
   ],
   "source": [
    "df_cancer.loc[1:,'fips'].describe()"
   ]
  },
  {
   "cell_type": "markdown",
   "metadata": {},
   "source": [
    "### Cancer columns"
   ]
  },
  {
   "cell_type": "code",
   "execution_count": 8,
   "metadata": {},
   "outputs": [
    {
     "data": {
      "text/plain": [
       "count      2932\n",
       "unique     1618\n",
       "top       462.4\n",
       "freq          8\n",
       "Name: cancer_per100k, dtype: object"
      ]
     },
     "execution_count": 8,
     "metadata": {},
     "output_type": "execute_result"
    }
   ],
   "source": [
    "df_cancer['cancer_per100k'].describe()"
   ]
  },
  {
   "cell_type": "code",
   "execution_count": 9,
   "metadata": {},
   "outputs": [],
   "source": [
    "x_out = []\n",
    "for x in df_cancer['cancer_per100k']:\n",
    "    try:\n",
    "        x_i = float(x)\n",
    "    except:\n",
    "        try:\n",
    "            x_i = float(x.replace('#','').replace(' ',''))\n",
    "        except:\n",
    "            print(x)\n",
    "            x_i = x\n",
    "    x_out.append(x_i)\n",
    "df_cancer['cancer_per100k'] = x_out"
   ]
  },
  {
   "cell_type": "code",
   "execution_count": 10,
   "metadata": {},
   "outputs": [
    {
     "data": {
      "text/plain": [
       "dtype('float64')"
      ]
     },
     "execution_count": 10,
     "metadata": {},
     "output_type": "execute_result"
    }
   ],
   "source": [
    "df_cancer['cancer_per100k'].dtype"
   ]
  },
  {
   "cell_type": "code",
   "execution_count": 11,
   "metadata": {},
   "outputs": [
    {
     "data": {
      "text/plain": [
       "count    2932.000000\n",
       "mean      411.633492\n",
       "std        64.211293\n",
       "min       117.500000\n",
       "25%       378.075000\n",
       "50%       422.350000\n",
       "75%       455.300000\n",
       "max      1063.600000\n",
       "Name: cancer_95ciL, dtype: float64"
      ]
     },
     "execution_count": 11,
     "metadata": {},
     "output_type": "execute_result"
    }
   ],
   "source": [
    "df_cancer['cancer_95ciL'].describe()"
   ]
  },
  {
   "cell_type": "code",
   "execution_count": 12,
   "metadata": {},
   "outputs": [
    {
     "data": {
      "text/plain": [
       "count    2932.000000\n",
       "mean      490.360744\n",
       "std        64.459080\n",
       "min       272.700000\n",
       "25%       453.900000\n",
       "50%       488.750000\n",
       "75%       524.000000\n",
       "max      1210.100000\n",
       "Name: cancer_95ciH, dtype: float64"
      ]
     },
     "execution_count": 12,
     "metadata": {},
     "output_type": "execute_result"
    }
   ],
   "source": [
    "df_cancer['cancer_95ciH'].describe()"
   ]
  },
  {
   "cell_type": "code",
   "execution_count": 13,
   "metadata": {},
   "outputs": [],
   "source": [
    "for i,x_i in df_cancer.iterrows():\n",
    "    if x_i['cancer_95ciL'] < x_i['cancer_per100k'] < x_i['cancer_95ciH']:\n",
    "        pass\n",
    "    else:\n",
    "        print(x_i)\n",
    "# test complete, all 95%CI are in the right position relative to the average value."
   ]
  },
  {
   "cell_type": "markdown",
   "metadata": {},
   "source": [
    "### Recent trend"
   ]
  },
  {
   "cell_type": "code",
   "execution_count": 14,
   "metadata": {},
   "outputs": [
    {
     "data": {
      "text/plain": [
       "array(['falling', 'stable', 'rising', '*'], dtype=object)"
      ]
     },
     "execution_count": 14,
     "metadata": {},
     "output_type": "execute_result"
    }
   ],
   "source": [
    "df_cancer['recent_trend'].unique()"
   ]
  },
  {
   "cell_type": "code",
   "execution_count": 15,
   "metadata": {},
   "outputs": [
    {
     "data": {
      "text/html": [
       "<div>\n",
       "<style scoped>\n",
       "    .dataframe tbody tr th:only-of-type {\n",
       "        vertical-align: middle;\n",
       "    }\n",
       "\n",
       "    .dataframe tbody tr th {\n",
       "        vertical-align: top;\n",
       "    }\n",
       "\n",
       "    .dataframe thead th {\n",
       "        text-align: right;\n",
       "    }\n",
       "</style>\n",
       "<table border=\"1\" class=\"dataframe\">\n",
       "  <thead>\n",
       "    <tr style=\"text-align: right;\">\n",
       "      <th></th>\n",
       "      <th>location</th>\n",
       "      <th>fips</th>\n",
       "      <th>cancer_per100k</th>\n",
       "      <th>cancer_95ciL</th>\n",
       "      <th>cancer_95ciH</th>\n",
       "      <th>avg_annual_count</th>\n",
       "      <th>recent_trend</th>\n",
       "      <th>trend5yr</th>\n",
       "      <th>trend5yr_95ciL</th>\n",
       "      <th>trend5yr_95ciH</th>\n",
       "    </tr>\n",
       "  </thead>\n",
       "  <tbody>\n",
       "    <tr>\n",
       "      <th>272</th>\n",
       "      <td>Jasper County, Georgia(7)</td>\n",
       "      <td>13159</td>\n",
       "      <td>515.7</td>\n",
       "      <td>466.8</td>\n",
       "      <td>568.7</td>\n",
       "      <td>88</td>\n",
       "      <td>*</td>\n",
       "      <td>*</td>\n",
       "      <td>*</td>\n",
       "      <td>*</td>\n",
       "    </tr>\n",
       "    <tr>\n",
       "      <th>339</th>\n",
       "      <td>Washington County, Georgia(7)</td>\n",
       "      <td>13303</td>\n",
       "      <td>508.8</td>\n",
       "      <td>469.7</td>\n",
       "      <td>550.5</td>\n",
       "      <td>131</td>\n",
       "      <td>*</td>\n",
       "      <td>*</td>\n",
       "      <td>*</td>\n",
       "      <td>*</td>\n",
       "    </tr>\n",
       "    <tr>\n",
       "      <th>410</th>\n",
       "      <td>Putnam County, Georgia(7)</td>\n",
       "      <td>13237</td>\n",
       "      <td>503.6</td>\n",
       "      <td>467.3</td>\n",
       "      <td>542.2</td>\n",
       "      <td>161</td>\n",
       "      <td>*</td>\n",
       "      <td>*</td>\n",
       "      <td>*</td>\n",
       "      <td>*</td>\n",
       "    </tr>\n",
       "    <tr>\n",
       "      <th>543</th>\n",
       "      <td>Morgan County, Georgia(7)</td>\n",
       "      <td>13211</td>\n",
       "      <td>494.9</td>\n",
       "      <td>454.7</td>\n",
       "      <td>538.0</td>\n",
       "      <td>119</td>\n",
       "      <td>*</td>\n",
       "      <td>*</td>\n",
       "      <td>*</td>\n",
       "      <td>*</td>\n",
       "    </tr>\n",
       "    <tr>\n",
       "      <th>584</th>\n",
       "      <td>Greene County, Georgia(7)</td>\n",
       "      <td>13133</td>\n",
       "      <td>492.9</td>\n",
       "      <td>452.6</td>\n",
       "      <td>536.3</td>\n",
       "      <td>136</td>\n",
       "      <td>*</td>\n",
       "      <td>*</td>\n",
       "      <td>*</td>\n",
       "      <td>*</td>\n",
       "    </tr>\n",
       "    <tr>\n",
       "      <th>1193</th>\n",
       "      <td>Daggett County, Utah(7)</td>\n",
       "      <td>49009</td>\n",
       "      <td>464.8</td>\n",
       "      <td>326.1</td>\n",
       "      <td>652.1</td>\n",
       "      <td>8</td>\n",
       "      <td>*</td>\n",
       "      <td>*</td>\n",
       "      <td>*</td>\n",
       "      <td>*</td>\n",
       "    </tr>\n",
       "    <tr>\n",
       "      <th>1407</th>\n",
       "      <td>Warren County, Georgia(7)</td>\n",
       "      <td>13301</td>\n",
       "      <td>457.1</td>\n",
       "      <td>388.9</td>\n",
       "      <td>535.0</td>\n",
       "      <td>36</td>\n",
       "      <td>*</td>\n",
       "      <td>*</td>\n",
       "      <td>*</td>\n",
       "      <td>*</td>\n",
       "    </tr>\n",
       "    <tr>\n",
       "      <th>1623</th>\n",
       "      <td>Jefferson County, Georgia(7)</td>\n",
       "      <td>13163</td>\n",
       "      <td>447.9</td>\n",
       "      <td>406.7</td>\n",
       "      <td>492.4</td>\n",
       "      <td>92</td>\n",
       "      <td>*</td>\n",
       "      <td>*</td>\n",
       "      <td>*</td>\n",
       "      <td>*</td>\n",
       "    </tr>\n",
       "    <tr>\n",
       "      <th>1646</th>\n",
       "      <td>Glascock County, Georgia(7)</td>\n",
       "      <td>13125</td>\n",
       "      <td>446.9</td>\n",
       "      <td>353.1</td>\n",
       "      <td>559.3</td>\n",
       "      <td>17</td>\n",
       "      <td>*</td>\n",
       "      <td>*</td>\n",
       "      <td>*</td>\n",
       "      <td>*</td>\n",
       "    </tr>\n",
       "    <tr>\n",
       "      <th>2487</th>\n",
       "      <td>Hancock County, Georgia(7)</td>\n",
       "      <td>13141</td>\n",
       "      <td>392.3</td>\n",
       "      <td>343.5</td>\n",
       "      <td>446.9</td>\n",
       "      <td>51</td>\n",
       "      <td>*</td>\n",
       "      <td>*</td>\n",
       "      <td>*</td>\n",
       "      <td>*</td>\n",
       "    </tr>\n",
       "    <tr>\n",
       "      <th>2718</th>\n",
       "      <td>Taliaferro County, Georgia(7)</td>\n",
       "      <td>13265</td>\n",
       "      <td>361.5</td>\n",
       "      <td>265.9</td>\n",
       "      <td>487.9</td>\n",
       "      <td>11</td>\n",
       "      <td>*</td>\n",
       "      <td>*</td>\n",
       "      <td>*</td>\n",
       "      <td>*</td>\n",
       "    </tr>\n",
       "    <tr>\n",
       "      <th>2877</th>\n",
       "      <td>McMullen County, Texas(6,10)</td>\n",
       "      <td>48311</td>\n",
       "      <td>305.7</td>\n",
       "      <td>178.9</td>\n",
       "      <td>503.5</td>\n",
       "      <td>4</td>\n",
       "      <td>*</td>\n",
       "      <td>*</td>\n",
       "      <td>*</td>\n",
       "      <td>*</td>\n",
       "    </tr>\n",
       "  </tbody>\n",
       "</table>\n",
       "</div>"
      ],
      "text/plain": [
       "                           location   fips  cancer_per100k  cancer_95ciL  \\\n",
       "272       Jasper County, Georgia(7)  13159           515.7         466.8   \n",
       "339   Washington County, Georgia(7)  13303           508.8         469.7   \n",
       "410       Putnam County, Georgia(7)  13237           503.6         467.3   \n",
       "543       Morgan County, Georgia(7)  13211           494.9         454.7   \n",
       "584       Greene County, Georgia(7)  13133           492.9         452.6   \n",
       "1193        Daggett County, Utah(7)  49009           464.8         326.1   \n",
       "1407      Warren County, Georgia(7)  13301           457.1         388.9   \n",
       "1623   Jefferson County, Georgia(7)  13163           447.9         406.7   \n",
       "1646    Glascock County, Georgia(7)  13125           446.9         353.1   \n",
       "2487     Hancock County, Georgia(7)  13141           392.3         343.5   \n",
       "2718  Taliaferro County, Georgia(7)  13265           361.5         265.9   \n",
       "2877   McMullen County, Texas(6,10)  48311           305.7         178.9   \n",
       "\n",
       "      cancer_95ciH  avg_annual_count recent_trend trend5yr trend5yr_95ciL  \\\n",
       "272          568.7                88            *        *              *   \n",
       "339          550.5               131            *        *              *   \n",
       "410          542.2               161            *        *              *   \n",
       "543          538.0               119            *        *              *   \n",
       "584          536.3               136            *        *              *   \n",
       "1193         652.1                 8            *        *              *   \n",
       "1407         535.0                36            *        *              *   \n",
       "1623         492.4                92            *        *              *   \n",
       "1646         559.3                17            *        *              *   \n",
       "2487         446.9                51            *        *              *   \n",
       "2718         487.9                11            *        *              *   \n",
       "2877         503.5                 4            *        *              *   \n",
       "\n",
       "     trend5yr_95ciH  \n",
       "272               *  \n",
       "339               *  \n",
       "410               *  \n",
       "543               *  \n",
       "584               *  \n",
       "1193              *  \n",
       "1407              *  \n",
       "1623              *  \n",
       "1646              *  \n",
       "2487              *  \n",
       "2718              *  \n",
       "2877              *  "
      ]
     },
     "execution_count": 15,
     "metadata": {},
     "output_type": "execute_result"
    }
   ],
   "source": [
    "df_cancer[df_cancer['recent_trend'] == \"*\"]"
   ]
  },
  {
   "cell_type": "markdown",
   "metadata": {},
   "source": [
    "we are missing trend values for a number of counties, mostly in Georgia.\n",
    "We will replace these values with missings, and trend analyses will not include these countries."
   ]
  },
  {
   "cell_type": "code",
   "execution_count": 16,
   "metadata": {},
   "outputs": [
    {
     "ename": "NameError",
     "evalue": "name 'np' is not defined",
     "output_type": "error",
     "traceback": [
      "\u001b[0;31m---------------------------------------------------------------------------\u001b[0m",
      "\u001b[0;31mValueError\u001b[0m                                Traceback (most recent call last)",
      "\u001b[0;32m<ipython-input-16-f55621e76136>\u001b[0m in \u001b[0;36m<module>\u001b[0;34m\u001b[0m\n\u001b[1;32m      9\u001b[0m         \u001b[0;32mtry\u001b[0m\u001b[0;34m:\u001b[0m\u001b[0;34m\u001b[0m\u001b[0;34m\u001b[0m\u001b[0m\n\u001b[0;32m---> 10\u001b[0;31m             \u001b[0mx_i\u001b[0m \u001b[0;34m=\u001b[0m \u001b[0mfloat\u001b[0m\u001b[0;34m(\u001b[0m\u001b[0mx_i_temp\u001b[0m\u001b[0;34m)\u001b[0m\u001b[0;34m\u001b[0m\u001b[0;34m\u001b[0m\u001b[0m\n\u001b[0m\u001b[1;32m     11\u001b[0m         \u001b[0;32mexcept\u001b[0m\u001b[0;34m:\u001b[0m\u001b[0;34m\u001b[0m\u001b[0;34m\u001b[0m\u001b[0m\n",
      "\u001b[0;31mValueError\u001b[0m: could not convert string to float: '*'",
      "\nDuring handling of the above exception, another exception occurred:\n",
      "\u001b[0;31mNameError\u001b[0m                                 Traceback (most recent call last)",
      "\u001b[0;32m<ipython-input-16-f55621e76136>\u001b[0m in \u001b[0;36m<module>\u001b[0;34m\u001b[0m\n\u001b[1;32m     10\u001b[0m             \u001b[0mx_i\u001b[0m \u001b[0;34m=\u001b[0m \u001b[0mfloat\u001b[0m\u001b[0;34m(\u001b[0m\u001b[0mx_i_temp\u001b[0m\u001b[0;34m)\u001b[0m\u001b[0;34m\u001b[0m\u001b[0;34m\u001b[0m\u001b[0m\n\u001b[1;32m     11\u001b[0m         \u001b[0;32mexcept\u001b[0m\u001b[0;34m:\u001b[0m\u001b[0;34m\u001b[0m\u001b[0;34m\u001b[0m\u001b[0m\n\u001b[0;32m---> 12\u001b[0;31m             \u001b[0mx_i\u001b[0m \u001b[0;34m=\u001b[0m \u001b[0mnp\u001b[0m\u001b[0;34m.\u001b[0m\u001b[0mnan\u001b[0m\u001b[0;34m\u001b[0m\u001b[0;34m\u001b[0m\u001b[0m\n\u001b[0m\u001b[1;32m     13\u001b[0m         \u001b[0mx_out\u001b[0m\u001b[0;34m.\u001b[0m\u001b[0mappend\u001b[0m\u001b[0;34m(\u001b[0m\u001b[0mx_i\u001b[0m\u001b[0;34m)\u001b[0m\u001b[0;34m\u001b[0m\u001b[0;34m\u001b[0m\u001b[0m\n\u001b[1;32m     14\u001b[0m     \u001b[0mdf_cancer\u001b[0m\u001b[0;34m[\u001b[0m\u001b[0mcol_i\u001b[0m\u001b[0;34m]\u001b[0m \u001b[0;34m=\u001b[0m \u001b[0mx_out\u001b[0m\u001b[0;34m\u001b[0m\u001b[0;34m\u001b[0m\u001b[0m\n",
      "\u001b[0;31mNameError\u001b[0m: name 'np' is not defined"
     ]
    }
   ],
   "source": [
    "cols = ['trend5yr','trend5yr_95ciL','trend5yr_95ciH']\n",
    "for col_i in cols:\n",
    "    x_out = []\n",
    "    for x in df_cancer[col_i]:\n",
    "        if type(x) == 'str':\n",
    "            x_i_temp = x.replace('#','').replace('*','').replace(' ','')\n",
    "        else:\n",
    "            x_i_temp = x\n",
    "        try:\n",
    "            x_i = float(x_i_temp)\n",
    "        except:\n",
    "            x_i = np.nan\n",
    "        x_out.append(x_i)\n",
    "    df_cancer[col_i] = x_out"
   ]
  },
  {
   "cell_type": "code",
   "execution_count": null,
   "metadata": {},
   "outputs": [],
   "source": [
    "df_cancer['recent_trend'] = [x if x != '*' else None for x in df_cancer['recent_trend']]"
   ]
  },
  {
   "cell_type": "code",
   "execution_count": null,
   "metadata": {},
   "outputs": [],
   "source": [
    "df_cancer.groupby(['recent_trend'])['trend5yr'].describe()"
   ]
  },
  {
   "cell_type": "code",
   "execution_count": null,
   "metadata": {},
   "outputs": [],
   "source": [
    "sns.catplot(x=\"recent_trend\", y=\"trend5yr\", kind='swarm', data=df_cancer);"
   ]
  },
  {
   "cell_type": "code",
   "execution_count": null,
   "metadata": {},
   "outputs": [],
   "source": [
    "fig = px.histogram(df_cancer[, x=\"trend5yr\", color=\"recent_trend\", marginal=\"rug\", # can be `box`, `violin`\n",
    "                         hover_data=df_cancer.columns)\n",
    "fig.show()"
   ]
  },
  {
   "cell_type": "code",
   "execution_count": null,
   "metadata": {},
   "outputs": [],
   "source": [
    "df_cancer.dtypes"
   ]
  },
  {
   "cell_type": "code",
   "execution_count": null,
   "metadata": {},
   "outputs": [],
   "source": [
    "pickle.dump(df_cancer,open('df_cancer_processed.pkl','wb'))"
   ]
  },
  {
   "cell_type": "code",
   "execution_count": null,
   "metadata": {},
   "outputs": [],
   "source": []
  }
 ],
 "metadata": {
  "kernelspec": {
   "display_name": "Python 3",
   "language": "python",
   "name": "python3"
  },
  "language_info": {
   "codemirror_mode": {
    "name": "ipython",
    "version": 3
   },
   "file_extension": ".py",
   "mimetype": "text/x-python",
   "name": "python",
   "nbconvert_exporter": "python",
   "pygments_lexer": "ipython3",
   "version": "3.7.4"
  }
 },
 "nbformat": 4,
 "nbformat_minor": 4
}
