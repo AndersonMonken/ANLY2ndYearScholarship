{
 "cells": [
  {
   "cell_type": "code",
   "execution_count": 49,
   "metadata": {},
   "outputs": [],
   "source": [
    "# packages\n",
    "import pandas as pd\n",
    "import pickle\n",
    "from datetime import datetime, date"
   ]
  },
  {
   "cell_type": "code",
   "execution_count": 50,
   "metadata": {},
   "outputs": [],
   "source": [
    "df_sites = pickle.load(open('df_superfund_geo.pkl','rb'))"
   ]
  },
  {
   "cell_type": "code",
   "execution_count": 51,
   "metadata": {},
   "outputs": [
    {
     "data": {
      "text/html": [
       "<div>\n",
       "<style scoped>\n",
       "    .dataframe tbody tr th:only-of-type {\n",
       "        vertical-align: middle;\n",
       "    }\n",
       "\n",
       "    .dataframe tbody tr th {\n",
       "        vertical-align: top;\n",
       "    }\n",
       "\n",
       "    .dataframe thead th {\n",
       "        text-align: right;\n",
       "    }\n",
       "</style>\n",
       "<table border=\"1\" class=\"dataframe\">\n",
       "  <thead>\n",
       "    <tr style=\"text-align: right;\">\n",
       "      <th></th>\n",
       "      <th>Site Name</th>\n",
       "      <th>City</th>\n",
       "      <th>Site EPA ID</th>\n",
       "      <th>Listing Date</th>\n",
       "      <th>Site Score</th>\n",
       "      <th>FederalFacilityIndicator</th>\n",
       "      <th>Additional Information</th>\n",
       "      <th>Site Location</th>\n",
       "      <th>State</th>\n",
       "      <th>URL</th>\n",
       "      <th>latitude</th>\n",
       "      <th>longitude</th>\n",
       "      <th>test_index</th>\n",
       "      <th>test_url</th>\n",
       "    </tr>\n",
       "  </thead>\n",
       "  <tbody>\n",
       "    <tr>\n",
       "      <th>0</th>\n",
       "      <td>Alabama Army Ammunition Plant</td>\n",
       "      <td>Childersburg</td>\n",
       "      <td>AL6210020008</td>\n",
       "      <td>07/22/1987</td>\n",
       "      <td>36.83</td>\n",
       "      <td>Yes</td>\n",
       "      <td>Site Listing NarrativeSite Progress ProfileFed...</td>\n",
       "      <td>Site Location</td>\n",
       "      <td>Alabama</td>\n",
       "      <td>https://epa.maps.arcgis.com/apps/webappviewer/...</td>\n",
       "      <td>33.338100</td>\n",
       "      <td>-86.326800</td>\n",
       "      <td>0</td>\n",
       "      <td>https://epa.maps.arcgis.com/apps/webappviewer/...</td>\n",
       "    </tr>\n",
       "    <tr>\n",
       "      <th>1</th>\n",
       "      <td>Alabama Plating Company, Inc.</td>\n",
       "      <td>Vincent</td>\n",
       "      <td>ALD004022448</td>\n",
       "      <td>09/18/2012</td>\n",
       "      <td>30.20</td>\n",
       "      <td>No</td>\n",
       "      <td>Site Listing NarrativeSite Progress ProfileFed...</td>\n",
       "      <td>Site Location</td>\n",
       "      <td>Alabama</td>\n",
       "      <td>https://epa.maps.arcgis.com/apps/webappviewer/...</td>\n",
       "      <td>33.399722</td>\n",
       "      <td>-86.405000</td>\n",
       "      <td>1</td>\n",
       "      <td>https://epa.maps.arcgis.com/apps/webappviewer/...</td>\n",
       "    </tr>\n",
       "    <tr>\n",
       "      <th>2</th>\n",
       "      <td>American Brass</td>\n",
       "      <td>Headland</td>\n",
       "      <td>ALD981868466</td>\n",
       "      <td>05/10/1999</td>\n",
       "      <td>55.61</td>\n",
       "      <td>No</td>\n",
       "      <td>Site Listing NarrativeSite Progress ProfileFed...</td>\n",
       "      <td>Site Location</td>\n",
       "      <td>Alabama</td>\n",
       "      <td>https://epa.maps.arcgis.com/apps/webappviewer/...</td>\n",
       "      <td>31.325000</td>\n",
       "      <td>-85.404167</td>\n",
       "      <td>2</td>\n",
       "      <td>https://epa.maps.arcgis.com/apps/webappviewer/...</td>\n",
       "    </tr>\n",
       "    <tr>\n",
       "      <th>3</th>\n",
       "      <td>Anniston Army Depot (Southeast Industrial Area)</td>\n",
       "      <td>Anniston</td>\n",
       "      <td>AL3210020027</td>\n",
       "      <td>03/13/1989</td>\n",
       "      <td>51.91</td>\n",
       "      <td>Yes</td>\n",
       "      <td>Site Listing NarrativeSite Progress ProfileFed...</td>\n",
       "      <td>Site Location</td>\n",
       "      <td>Alabama</td>\n",
       "      <td>https://epa.maps.arcgis.com/apps/webappviewer/...</td>\n",
       "      <td>33.659439</td>\n",
       "      <td>-85.969439</td>\n",
       "      <td>3</td>\n",
       "      <td>https://epa.maps.arcgis.com/apps/webappviewer/...</td>\n",
       "    </tr>\n",
       "    <tr>\n",
       "      <th>4</th>\n",
       "      <td>Ciba-Geigy Corp. (McIntosh Plant)</td>\n",
       "      <td>McIntosh</td>\n",
       "      <td>ALD001221902</td>\n",
       "      <td>09/21/1984</td>\n",
       "      <td>53.42</td>\n",
       "      <td>No</td>\n",
       "      <td>Site Listing NarrativeSite Progress ProfileFed...</td>\n",
       "      <td>Site Location</td>\n",
       "      <td>Alabama</td>\n",
       "      <td>https://epa.maps.arcgis.com/apps/webappviewer/...</td>\n",
       "      <td>31.279000</td>\n",
       "      <td>-87.995500</td>\n",
       "      <td>4</td>\n",
       "      <td>https://epa.maps.arcgis.com/apps/webappviewer/...</td>\n",
       "    </tr>\n",
       "  </tbody>\n",
       "</table>\n",
       "</div>"
      ],
      "text/plain": [
       "                                         Site Name          City  \\\n",
       "0                    Alabama Army Ammunition Plant  Childersburg   \n",
       "1                    Alabama Plating Company, Inc.       Vincent   \n",
       "2                                   American Brass      Headland   \n",
       "3  Anniston Army Depot (Southeast Industrial Area)      Anniston   \n",
       "4                Ciba-Geigy Corp. (McIntosh Plant)      McIntosh   \n",
       "\n",
       "    Site EPA ID Listing Date Site Score FederalFacilityIndicator  \\\n",
       "0  AL6210020008   07/22/1987      36.83                      Yes   \n",
       "1  ALD004022448   09/18/2012      30.20                       No   \n",
       "2  ALD981868466   05/10/1999      55.61                       No   \n",
       "3  AL3210020027   03/13/1989      51.91                      Yes   \n",
       "4  ALD001221902   09/21/1984      53.42                       No   \n",
       "\n",
       "                              Additional Information  Site Location    State  \\\n",
       "0  Site Listing NarrativeSite Progress ProfileFed...  Site Location  Alabama   \n",
       "1  Site Listing NarrativeSite Progress ProfileFed...  Site Location  Alabama   \n",
       "2  Site Listing NarrativeSite Progress ProfileFed...  Site Location  Alabama   \n",
       "3  Site Listing NarrativeSite Progress ProfileFed...  Site Location  Alabama   \n",
       "4  Site Listing NarrativeSite Progress ProfileFed...  Site Location  Alabama   \n",
       "\n",
       "                                                 URL   latitude  longitude  \\\n",
       "0  https://epa.maps.arcgis.com/apps/webappviewer/...  33.338100 -86.326800   \n",
       "1  https://epa.maps.arcgis.com/apps/webappviewer/...  33.399722 -86.405000   \n",
       "2  https://epa.maps.arcgis.com/apps/webappviewer/...  31.325000 -85.404167   \n",
       "3  https://epa.maps.arcgis.com/apps/webappviewer/...  33.659439 -85.969439   \n",
       "4  https://epa.maps.arcgis.com/apps/webappviewer/...  31.279000 -87.995500   \n",
       "\n",
       "   test_index                                           test_url  \n",
       "0           0  https://epa.maps.arcgis.com/apps/webappviewer/...  \n",
       "1           1  https://epa.maps.arcgis.com/apps/webappviewer/...  \n",
       "2           2  https://epa.maps.arcgis.com/apps/webappviewer/...  \n",
       "3           3  https://epa.maps.arcgis.com/apps/webappviewer/...  \n",
       "4           4  https://epa.maps.arcgis.com/apps/webappviewer/...  "
      ]
     },
     "execution_count": 51,
     "metadata": {},
     "output_type": "execute_result"
    }
   ],
   "source": [
    "df_sites.head()"
   ]
  },
  {
   "cell_type": "code",
   "execution_count": 52,
   "metadata": {},
   "outputs": [
    {
     "name": "stdout",
     "output_type": "stream",
     "text": [
      "28[ARD990660649]\n",
      "121[CAT080012826]\n",
      "145[COD980499255]\n",
      "158[CTD980521165]\n",
      "162[CTD001186618]\n",
      "180[DED000606079]\n",
      "242[GAD099303182]\n",
      "252[GUD980637649]\n",
      "295[ILD000802827]\n",
      "345[IND040313017]\n",
      "446[MAD980731335]\n",
      "462[MI0001119106]\n",
      "480[MID980506281]\n",
      "543[MND980609804]\n",
      "566[MOD980633010]\n",
      "603[MT0009083840]\n",
      "645[NHD099363541]\n",
      "686[NJN000206317]\n",
      "727[NJD070281175]\n",
      "756[NJD980755623]\n",
      "777[NMD980745558]\n",
      "781[NYD982531469]\n",
      "800[NYD981560923]\n",
      "823[NY0001233634]\n",
      "840[NYD000511659]\n",
      "905[OHD074727793]\n",
      "952[ORN001002476]\n",
      "1052[PRN000204694]\n",
      "1078[RID980579056]\n",
      "1103[SCD000622787]\n",
      "1159[TXD980629851]\n",
      "1206[VTD980523062]\n",
      "1244[WAD009624453]\n",
      "1297[WVD980713036]\n",
      "1318[WID083290981]\n"
     ]
    }
   ],
   "source": [
    "# Missing site scores\n",
    "for i,x in df_sites.iterrows():\n",
    "    try:\n",
    "        temp = float(x['Site Score'])\n",
    "    except:\n",
    "        print(f'{i}[{x[\"Site EPA ID\"]}]')"
   ]
  },
  {
   "cell_type": "code",
   "execution_count": 53,
   "metadata": {},
   "outputs": [],
   "source": [
    "# convert string to numeric site score\n",
    "# replacing empty strings with null\n",
    "list_scores = []\n",
    "for i,x in df_sites.iterrows():\n",
    "    try:\n",
    "        list_scores.append(float(x['Site Score']))\n",
    "    except:\n",
    "        list_scores.append(None)\n",
    "df_sites['site_score'] = list_scores"
   ]
  },
  {
   "cell_type": "code",
   "execution_count": 54,
   "metadata": {},
   "outputs": [
    {
     "data": {
      "text/plain": [
       "array(['Site Location'], dtype=object)"
      ]
     },
     "execution_count": 54,
     "metadata": {},
     "output_type": "execute_result"
    }
   ],
   "source": [
    "# only one entry option for site location\n",
    "df_sites['Site Location'].unique()"
   ]
  },
  {
   "cell_type": "code",
   "execution_count": 55,
   "metadata": {},
   "outputs": [],
   "source": [
    "# cancer rates are for 2012-2016. Both time the site has been active and severity of the site could play a role in cancer rates\n",
    "df_sites['Listing Date'] = pd.to_datetime(df_sites['Listing Date'], infer_datetime_format=True)"
   ]
  },
  {
   "cell_type": "code",
   "execution_count": 56,
   "metadata": {},
   "outputs": [
    {
     "data": {
      "text/plain": [
       "count                    1335\n",
       "unique                     79\n",
       "top       1983-09-08 00:00:00\n",
       "freq                      268\n",
       "first     1983-09-08 00:00:00\n",
       "last      2019-11-08 00:00:00\n",
       "Name: Listing Date, dtype: object"
      ]
     },
     "execution_count": 56,
     "metadata": {},
     "output_type": "execute_result"
    }
   ],
   "source": [
    "df_sites['Listing Date'].describe()"
   ]
  },
  {
   "cell_type": "markdown",
   "metadata": {},
   "source": [
    "If there were sites that are placed on the list after 2016 then they will not affect the cancer rates. Cancer is typically a longer-timeframe disease and as such a superfund site that started after the 2012-2016 timeline would not affect those rates.\n"
   ]
  },
  {
   "cell_type": "code",
   "execution_count": 57,
   "metadata": {},
   "outputs": [
    {
     "name": "stdout",
     "output_type": "stream",
     "text": [
      "58 records with listing date before mid-2014\n"
     ]
    }
   ],
   "source": [
    "print(f\"{sum(df_sites['Listing Date'] > datetime(2014,7,1))} records with listing date before mid-2014\")\n",
    "df_sites = df_sites[df_sites['Listing Date'] <= datetime(2014,7,1)]"
   ]
  },
  {
   "cell_type": "code",
   "execution_count": 58,
   "metadata": {},
   "outputs": [],
   "source": [
    "df_sites['site_time'] =  datetime(2014,7,1) - df_sites['Listing Date']"
   ]
  },
  {
   "cell_type": "code",
   "execution_count": 59,
   "metadata": {},
   "outputs": [
    {
     "data": {
      "text/plain": [
       "count                         1277\n",
       "mean     8116 days 08:30:49.334377\n",
       "std      3241 days 05:56:46.558929\n",
       "min               50 days 00:00:00\n",
       "25%             5961 days 00:00:00\n",
       "50%             9036 days 00:00:00\n",
       "75%            10875 days 00:00:00\n",
       "max            11254 days 00:00:00\n",
       "Name: site_time, dtype: object"
      ]
     },
     "execution_count": 59,
     "metadata": {},
     "output_type": "execute_result"
    }
   ],
   "source": [
    "df_sites['site_time'].describe()"
   ]
  },
  {
   "cell_type": "code",
   "execution_count": 60,
   "metadata": {},
   "outputs": [
    {
     "data": {
      "text/plain": [
       "<matplotlib.axes._subplots.AxesSubplot at 0x7fbd31634d10>"
      ]
     },
     "execution_count": 60,
     "metadata": {},
     "output_type": "execute_result"
    },
    {
     "data": {
      "image/png": "[encoded data removed]",
      "text/plain": [
       "<Figure size 432x288 with 1 Axes>"
      ]
     },
     "metadata": {
      "needs_background": "light"
     },
     "output_type": "display_data"
    }
   ],
   "source": [
    "df_sites[[\"Listing Date\"]].groupby(df_sites[\"Listing Date\"].dt.year).count().plot(kind=\"bar\")"
   ]
  },
  {
   "cell_type": "code",
   "execution_count": 61,
   "metadata": {},
   "outputs": [],
   "source": [
    "df_sites['listing_year'] = df_sites[\"Listing Date\"].dt.year"
   ]
  },
  {
   "cell_type": "code",
   "execution_count": 62,
   "metadata": {},
   "outputs": [
    {
     "data": {
      "text/plain": [
       "<matplotlib.axes._subplots.AxesSubplot at 0x7fbd30ffac10>"
      ]
     },
     "execution_count": 62,
     "metadata": {},
     "output_type": "execute_result"
    },
    {
     "data": {
      "image/png": "[encoded data removed]",
      "text/plain": [
       "<Figure size 432x288 with 1 Axes>"
      ]
     },
     "metadata": {
      "needs_background": "light"
     },
     "output_type": "display_data"
    }
   ],
   "source": [
    "df_sites[\"site_time\"].dt.days.hist()"
   ]
  },
  {
   "cell_type": "code",
   "execution_count": 63,
   "metadata": {},
   "outputs": [],
   "source": [
    "def get_fips(x):\n",
    "\n",
    "    import requests\n",
    "    import urllib\n",
    "\n",
    "    #Encode parameters \n",
    "    params = urllib.parse.urlencode({'latitude': x['latitude'], 'longitude':x['longitude'], 'format':'json'})\n",
    "    #Contruct request URL\n",
    "    url = 'https://geo.fcc.gov/api/census/block/find?' + params\n",
    "\n",
    "    #Get response from API\n",
    "    response = requests.get(url)\n",
    "\n",
    "    #Parse json in response\n",
    "    data = response.json()\n",
    "    return data['County']['FIPS']"
   ]
  },
  {
   "cell_type": "code",
   "execution_count": 64,
   "metadata": {},
   "outputs": [],
   "source": [
    "df_sites['fips'] = df_sites[['latitude','longitude']].apply(get_fips, axis = 1)"
   ]
  },
  {
   "cell_type": "code",
   "execution_count": 65,
   "metadata": {},
   "outputs": [
    {
     "data": {
      "text/plain": [
       "count      1277\n",
       "unique      636\n",
       "top       06085\n",
       "freq         22\n",
       "Name: fips, dtype: object"
      ]
     },
     "execution_count": 65,
     "metadata": {},
     "output_type": "execute_result"
    }
   ],
   "source": [
    "df_sites['fips'].describe()"
   ]
  },
  {
   "cell_type": "code",
   "execution_count": 66,
   "metadata": {},
   "outputs": [],
   "source": [
    "pickle.dump(df_sites,open('df_superfund_geo_processed.pkl','wb'))"
   ]
  },
  {
   "cell_type": "code",
   "execution_count": 48,
   "metadata": {},
   "outputs": [
    {
     "ename": "AttributeError",
     "evalue": "'builtin_function_or_method' object has no attribute 'date'",
     "output_type": "error",
     "traceback": [
      "\u001b[0;31m---------------------------------------------------------------------------\u001b[0m",
      "\u001b[0;31mAttributeError\u001b[0m                            Traceback (most recent call last)",
      "\u001b[0;32m<ipython-input-48-5d4a1fa2745b>\u001b[0m in \u001b[0;36m<module>\u001b[0;34m\u001b[0m\n\u001b[0;32m----> 1\u001b[0;31m \u001b[0mdf_sites\u001b[0m\u001b[0;34m[\u001b[0m\u001b[0;34m'Listing Date'\u001b[0m\u001b[0;34m]\u001b[0m \u001b[0;34m=\u001b[0m \u001b[0;34m[\u001b[0m\u001b[0mx\u001b[0m\u001b[0;34m.\u001b[0m\u001b[0mdate\u001b[0m\u001b[0;34m(\u001b[0m\u001b[0;34m)\u001b[0m \u001b[0;32mfor\u001b[0m \u001b[0mx\u001b[0m \u001b[0;32min\u001b[0m \u001b[0mdf_sites\u001b[0m\u001b[0;34m[\u001b[0m\u001b[0;34m'Listing Date'\u001b[0m\u001b[0;34m]\u001b[0m\u001b[0;34m]\u001b[0m\u001b[0;34m\u001b[0m\u001b[0;34m\u001b[0m\u001b[0m\n\u001b[0m",
      "\u001b[0;32m<ipython-input-48-5d4a1fa2745b>\u001b[0m in \u001b[0;36m<listcomp>\u001b[0;34m(.0)\u001b[0m\n\u001b[0;32m----> 1\u001b[0;31m \u001b[0mdf_sites\u001b[0m\u001b[0;34m[\u001b[0m\u001b[0;34m'Listing Date'\u001b[0m\u001b[0;34m]\u001b[0m \u001b[0;34m=\u001b[0m \u001b[0;34m[\u001b[0m\u001b[0mx\u001b[0m\u001b[0;34m.\u001b[0m\u001b[0mdate\u001b[0m\u001b[0;34m(\u001b[0m\u001b[0;34m)\u001b[0m \u001b[0;32mfor\u001b[0m \u001b[0mx\u001b[0m \u001b[0;32min\u001b[0m \u001b[0mdf_sites\u001b[0m\u001b[0;34m[\u001b[0m\u001b[0;34m'Listing Date'\u001b[0m\u001b[0;34m]\u001b[0m\u001b[0;34m]\u001b[0m\u001b[0;34m\u001b[0m\u001b[0;34m\u001b[0m\u001b[0m\n\u001b[0m",
      "\u001b[0;31mAttributeError\u001b[0m: 'builtin_function_or_method' object has no attribute 'date'"
     ]
    }
   ],
   "source": [
    "df_sites['Listing Date'] = [x.date() for x in df_sites['Listing Date']]"
   ]
  },
  {
   "cell_type": "code",
   "execution_count": 47,
   "metadata": {},
   "outputs": [
    {
     "data": {
      "text/plain": [
       "0       <built-in method date of Timestamp object at 0...\n",
       "1       <built-in method date of Timestamp object at 0...\n",
       "2       <built-in method date of Timestamp object at 0...\n",
       "3       <built-in method date of Timestamp object at 0...\n",
       "4       <built-in method date of Timestamp object at 0...\n",
       "                              ...                        \n",
       "1330    <built-in method date of Timestamp object at 0...\n",
       "1331    <built-in method date of Timestamp object at 0...\n",
       "1332    <built-in method date of Timestamp object at 0...\n",
       "1333    <built-in method date of Timestamp object at 0...\n",
       "1334    <built-in method date of Timestamp object at 0...\n",
       "Name: Listing Date, Length: 1277, dtype: object"
      ]
     },
     "execution_count": 47,
     "metadata": {},
     "output_type": "execute_result"
    }
   ],
   "source": [
    "df_sites['Listing Date']"
   ]
  },
  {
   "cell_type": "code",
   "execution_count": 46,
   "metadata": {},
   "outputs": [
    {
     "data": {
      "text/plain": [
       "Site Name                            object\n",
       "City                                 object\n",
       "Site EPA ID                          object\n",
       "Listing Date                         object\n",
       "Site Score                           object\n",
       "FederalFacilityIndicator             object\n",
       "Additional Information               object\n",
       "Site Location                        object\n",
       "State                                object\n",
       "URL                                  object\n",
       "latitude                            float64\n",
       "longitude                           float64\n",
       "test_index                            int64\n",
       "test_url                             object\n",
       "site_score                          float64\n",
       "site_time                   timedelta64[ns]\n",
       "listing_year                          int64\n",
       "fips                                 object\n",
       "one                                   int64\n",
       "dtype: object"
      ]
     },
     "execution_count": 46,
     "metadata": {},
     "output_type": "execute_result"
    }
   ],
   "source": [
    "df_sites.dtypes"
   ]
  },
  {
   "cell_type": "code",
   "execution_count": 42,
   "metadata": {},
   "outputs": [
    {
     "ename": "ArrowNotImplementedError",
     "evalue": "('Unsupported numpy type 22\\n', 'Conversion failed for column site_time with type timedelta64[ns]')",
     "output_type": "error",
     "traceback": [
      "\u001b[0;31m---------------------------------------------------------------------------\u001b[0m",
      "\u001b[0;31mArrowNotImplementedError\u001b[0m                  Traceback (most recent call last)",
      "\u001b[0;32m<ipython-input-42-dddbd3ec8b3c>\u001b[0m in \u001b[0;36m<module>\u001b[0;34m\u001b[0m\n\u001b[1;32m      1\u001b[0m \u001b[0;32mimport\u001b[0m \u001b[0mfeather\u001b[0m\u001b[0;34m\u001b[0m\u001b[0;34m\u001b[0m\u001b[0m\n\u001b[1;32m      2\u001b[0m \u001b[0mdf_sites\u001b[0m\u001b[0;34m\u001b[0m\u001b[0;34m\u001b[0m\u001b[0m\n\u001b[0;32m----> 3\u001b[0;31m \u001b[0mfeather\u001b[0m\u001b[0;34m.\u001b[0m\u001b[0mwrite_dataframe\u001b[0m\u001b[0;34m(\u001b[0m\u001b[0mdf_sites\u001b[0m\u001b[0;34m,\u001b[0m\u001b[0;34m'sites_data.feather'\u001b[0m\u001b[0;34m)\u001b[0m\u001b[0;34m\u001b[0m\u001b[0;34m\u001b[0m\u001b[0m\n\u001b[0m",
      "\u001b[0;32m/opt/anaconda3/lib/python3.7/site-packages/pyarrow/feather.py\u001b[0m in \u001b[0;36mwrite_feather\u001b[0;34m(df, dest)\u001b[0m\n\u001b[1;32m    176\u001b[0m     \u001b[0mwriter\u001b[0m \u001b[0;34m=\u001b[0m \u001b[0mFeatherWriter\u001b[0m\u001b[0;34m(\u001b[0m\u001b[0mdest\u001b[0m\u001b[0;34m)\u001b[0m\u001b[0;34m\u001b[0m\u001b[0;34m\u001b[0m\u001b[0m\n\u001b[1;32m    177\u001b[0m     \u001b[0;32mtry\u001b[0m\u001b[0;34m:\u001b[0m\u001b[0;34m\u001b[0m\u001b[0;34m\u001b[0m\u001b[0m\n\u001b[0;32m--> 178\u001b[0;31m         \u001b[0mwriter\u001b[0m\u001b[0;34m.\u001b[0m\u001b[0mwrite\u001b[0m\u001b[0;34m(\u001b[0m\u001b[0mdf\u001b[0m\u001b[0;34m)\u001b[0m\u001b[0;34m\u001b[0m\u001b[0;34m\u001b[0m\u001b[0m\n\u001b[0m\u001b[1;32m    179\u001b[0m     \u001b[0;32mexcept\u001b[0m \u001b[0mException\u001b[0m\u001b[0;34m:\u001b[0m\u001b[0;34m\u001b[0m\u001b[0;34m\u001b[0m\u001b[0m\n\u001b[1;32m    180\u001b[0m         \u001b[0;31m# Try to make sure the resource is closed\u001b[0m\u001b[0;34m\u001b[0m\u001b[0;34m\u001b[0m\u001b[0;34m\u001b[0m\u001b[0m\n",
      "\u001b[0;32m/opt/anaconda3/lib/python3.7/site-packages/pyarrow/feather.py\u001b[0m in \u001b[0;36mwrite\u001b[0;34m(self, df)\u001b[0m\n\u001b[1;32m     89\u001b[0m         \u001b[0;31m# TODO(wesm): Remove this length check, see ARROW-1732\u001b[0m\u001b[0;34m\u001b[0m\u001b[0;34m\u001b[0m\u001b[0;34m\u001b[0m\u001b[0m\n\u001b[1;32m     90\u001b[0m         \u001b[0;32mif\u001b[0m \u001b[0mlen\u001b[0m\u001b[0;34m(\u001b[0m\u001b[0mdf\u001b[0m\u001b[0;34m.\u001b[0m\u001b[0mcolumns\u001b[0m\u001b[0;34m)\u001b[0m \u001b[0;34m>\u001b[0m \u001b[0;36m0\u001b[0m\u001b[0;34m:\u001b[0m\u001b[0;34m\u001b[0m\u001b[0;34m\u001b[0m\u001b[0m\n\u001b[0;32m---> 91\u001b[0;31m             \u001b[0mbatch\u001b[0m \u001b[0;34m=\u001b[0m \u001b[0mRecordBatch\u001b[0m\u001b[0;34m.\u001b[0m\u001b[0mfrom_pandas\u001b[0m\u001b[0;34m(\u001b[0m\u001b[0mdf\u001b[0m\u001b[0;34m,\u001b[0m \u001b[0mpreserve_index\u001b[0m\u001b[0;34m=\u001b[0m\u001b[0;32mFalse\u001b[0m\u001b[0;34m)\u001b[0m\u001b[0;34m\u001b[0m\u001b[0;34m\u001b[0m\u001b[0m\n\u001b[0m\u001b[1;32m     92\u001b[0m             \u001b[0;32mfor\u001b[0m \u001b[0mi\u001b[0m\u001b[0;34m,\u001b[0m \u001b[0mname\u001b[0m \u001b[0;32min\u001b[0m \u001b[0menumerate\u001b[0m\u001b[0;34m(\u001b[0m\u001b[0mbatch\u001b[0m\u001b[0;34m.\u001b[0m\u001b[0mschema\u001b[0m\u001b[0;34m.\u001b[0m\u001b[0mnames\u001b[0m\u001b[0;34m)\u001b[0m\u001b[0;34m:\u001b[0m\u001b[0;34m\u001b[0m\u001b[0;34m\u001b[0m\u001b[0m\n\u001b[1;32m     93\u001b[0m                 \u001b[0mcol\u001b[0m \u001b[0;34m=\u001b[0m \u001b[0mbatch\u001b[0m\u001b[0;34m[\u001b[0m\u001b[0mi\u001b[0m\u001b[0;34m]\u001b[0m\u001b[0;34m\u001b[0m\u001b[0;34m\u001b[0m\u001b[0m\n",
      "\u001b[0;32m/opt/anaconda3/lib/python3.7/site-packages/pyarrow/table.pxi\u001b[0m in \u001b[0;36mpyarrow.lib.RecordBatch.from_pandas\u001b[0;34m()\u001b[0m\n",
      "\u001b[0;32m/opt/anaconda3/lib/python3.7/site-packages/pyarrow/pandas_compat.py\u001b[0m in \u001b[0;36mdataframe_to_arrays\u001b[0;34m(df, schema, preserve_index, nthreads, columns, safe)\u001b[0m\n\u001b[1;32m    379\u001b[0m         arrays = [convert_column(c, t)\n\u001b[1;32m    380\u001b[0m                   for c, t in zip(columns_to_convert,\n\u001b[0;32m--> 381\u001b[0;31m                                   convert_types)]\n\u001b[0m\u001b[1;32m    382\u001b[0m     \u001b[0;32melse\u001b[0m\u001b[0;34m:\u001b[0m\u001b[0;34m\u001b[0m\u001b[0;34m\u001b[0m\u001b[0m\n\u001b[1;32m    383\u001b[0m         \u001b[0;32mfrom\u001b[0m \u001b[0mconcurrent\u001b[0m \u001b[0;32mimport\u001b[0m \u001b[0mfutures\u001b[0m\u001b[0;34m\u001b[0m\u001b[0;34m\u001b[0m\u001b[0m\n",
      "\u001b[0;32m/opt/anaconda3/lib/python3.7/site-packages/pyarrow/pandas_compat.py\u001b[0m in \u001b[0;36m<listcomp>\u001b[0;34m(.0)\u001b[0m\n\u001b[1;32m    378\u001b[0m     \u001b[0;32mif\u001b[0m \u001b[0mnthreads\u001b[0m \u001b[0;34m==\u001b[0m \u001b[0;36m1\u001b[0m\u001b[0;34m:\u001b[0m\u001b[0;34m\u001b[0m\u001b[0;34m\u001b[0m\u001b[0m\n\u001b[1;32m    379\u001b[0m         arrays = [convert_column(c, t)\n\u001b[0;32m--> 380\u001b[0;31m                   for c, t in zip(columns_to_convert,\n\u001b[0m\u001b[1;32m    381\u001b[0m                                   convert_types)]\n\u001b[1;32m    382\u001b[0m     \u001b[0;32melse\u001b[0m\u001b[0;34m:\u001b[0m\u001b[0;34m\u001b[0m\u001b[0;34m\u001b[0m\u001b[0m\n",
      "\u001b[0;32m/opt/anaconda3/lib/python3.7/site-packages/pyarrow/pandas_compat.py\u001b[0m in \u001b[0;36mconvert_column\u001b[0;34m(col, ty)\u001b[0m\n\u001b[1;32m    374\u001b[0m             e.args += (\"Conversion failed for column {0!s} with type {1!s}\"\n\u001b[1;32m    375\u001b[0m                        .format(col.name, col.dtype),)\n\u001b[0;32m--> 376\u001b[0;31m             \u001b[0;32mraise\u001b[0m \u001b[0me\u001b[0m\u001b[0;34m\u001b[0m\u001b[0;34m\u001b[0m\u001b[0m\n\u001b[0m\u001b[1;32m    377\u001b[0m \u001b[0;34m\u001b[0m\u001b[0m\n\u001b[1;32m    378\u001b[0m     \u001b[0;32mif\u001b[0m \u001b[0mnthreads\u001b[0m \u001b[0;34m==\u001b[0m \u001b[0;36m1\u001b[0m\u001b[0;34m:\u001b[0m\u001b[0;34m\u001b[0m\u001b[0;34m\u001b[0m\u001b[0m\n",
      "\u001b[0;32m/opt/anaconda3/lib/python3.7/site-packages/pyarrow/pandas_compat.py\u001b[0m in \u001b[0;36mconvert_column\u001b[0;34m(col, ty)\u001b[0m\n\u001b[1;32m    368\u001b[0m     \u001b[0;32mdef\u001b[0m \u001b[0mconvert_column\u001b[0m\u001b[0;34m(\u001b[0m\u001b[0mcol\u001b[0m\u001b[0;34m,\u001b[0m \u001b[0mty\u001b[0m\u001b[0;34m)\u001b[0m\u001b[0;34m:\u001b[0m\u001b[0;34m\u001b[0m\u001b[0;34m\u001b[0m\u001b[0m\n\u001b[1;32m    369\u001b[0m         \u001b[0;32mtry\u001b[0m\u001b[0;34m:\u001b[0m\u001b[0;34m\u001b[0m\u001b[0;34m\u001b[0m\u001b[0m\n\u001b[0;32m--> 370\u001b[0;31m             \u001b[0;32mreturn\u001b[0m \u001b[0mpa\u001b[0m\u001b[0;34m.\u001b[0m\u001b[0marray\u001b[0m\u001b[0;34m(\u001b[0m\u001b[0mcol\u001b[0m\u001b[0;34m,\u001b[0m \u001b[0mtype\u001b[0m\u001b[0;34m=\u001b[0m\u001b[0mty\u001b[0m\u001b[0;34m,\u001b[0m \u001b[0mfrom_pandas\u001b[0m\u001b[0;34m=\u001b[0m\u001b[0;32mTrue\u001b[0m\u001b[0;34m,\u001b[0m \u001b[0msafe\u001b[0m\u001b[0;34m=\u001b[0m\u001b[0msafe\u001b[0m\u001b[0;34m)\u001b[0m\u001b[0;34m\u001b[0m\u001b[0;34m\u001b[0m\u001b[0m\n\u001b[0m\u001b[1;32m    371\u001b[0m         except (pa.ArrowInvalid,\n\u001b[1;32m    372\u001b[0m                 \u001b[0mpa\u001b[0m\u001b[0;34m.\u001b[0m\u001b[0mArrowNotImplementedError\u001b[0m\u001b[0;34m,\u001b[0m\u001b[0;34m\u001b[0m\u001b[0;34m\u001b[0m\u001b[0m\n",
      "\u001b[0;32m/opt/anaconda3/lib/python3.7/site-packages/pyarrow/array.pxi\u001b[0m in \u001b[0;36mpyarrow.lib.array\u001b[0;34m()\u001b[0m\n",
      "\u001b[0;32m/opt/anaconda3/lib/python3.7/site-packages/pyarrow/array.pxi\u001b[0m in \u001b[0;36mpyarrow.lib._ndarray_to_array\u001b[0;34m()\u001b[0m\n",
      "\u001b[0;32m/opt/anaconda3/lib/python3.7/site-packages/pyarrow/error.pxi\u001b[0m in \u001b[0;36mpyarrow.lib.check_status\u001b[0;34m()\u001b[0m\n",
      "\u001b[0;31mArrowNotImplementedError\u001b[0m: ('Unsupported numpy type 22\\n', 'Conversion failed for column site_time with type timedelta64[ns]')"
     ]
    }
   ],
   "source": [
    "import feather\n",
    "df_sites\n",
    "feather.write_dataframe(df_sites,'sites_data.feather')"
   ]
  },
  {
   "cell_type": "code",
   "execution_count": 19,
   "metadata": {},
   "outputs": [
    {
     "data": {
      "text/html": [
       "<div>\n",
       "<style scoped>\n",
       "    .dataframe tbody tr th:only-of-type {\n",
       "        vertical-align: middle;\n",
       "    }\n",
       "\n",
       "    .dataframe tbody tr th {\n",
       "        vertical-align: top;\n",
       "    }\n",
       "\n",
       "    .dataframe thead th {\n",
       "        text-align: right;\n",
       "    }\n",
       "</style>\n",
       "<table border=\"1\" class=\"dataframe\">\n",
       "  <thead>\n",
       "    <tr style=\"text-align: right;\">\n",
       "      <th></th>\n",
       "      <th>Site Name</th>\n",
       "      <th>City</th>\n",
       "      <th>Site EPA ID</th>\n",
       "      <th>Listing Date</th>\n",
       "      <th>Site Score</th>\n",
       "      <th>FederalFacilityIndicator</th>\n",
       "      <th>Additional Information</th>\n",
       "      <th>Site Location</th>\n",
       "      <th>State</th>\n",
       "      <th>URL</th>\n",
       "      <th>latitude</th>\n",
       "      <th>longitude</th>\n",
       "      <th>test_index</th>\n",
       "      <th>test_url</th>\n",
       "      <th>site_score</th>\n",
       "      <th>site_time</th>\n",
       "      <th>listing_year</th>\n",
       "      <th>fips</th>\n",
       "    </tr>\n",
       "  </thead>\n",
       "  <tbody>\n",
       "    <tr>\n",
       "      <th>0</th>\n",
       "      <td>Alabama Army Ammunition Plant</td>\n",
       "      <td>Childersburg</td>\n",
       "      <td>AL6210020008</td>\n",
       "      <td>1987-07-22</td>\n",
       "      <td>36.83</td>\n",
       "      <td>Yes</td>\n",
       "      <td>Site Listing NarrativeSite Progress ProfileFed...</td>\n",
       "      <td>Site Location</td>\n",
       "      <td>Alabama</td>\n",
       "      <td>https://epa.maps.arcgis.com/apps/webappviewer/...</td>\n",
       "      <td>33.338100</td>\n",
       "      <td>-86.326800</td>\n",
       "      <td>0</td>\n",
       "      <td>https://epa.maps.arcgis.com/apps/webappviewer/...</td>\n",
       "      <td>36.83</td>\n",
       "      <td>9841 days</td>\n",
       "      <td>1987</td>\n",
       "      <td>01121</td>\n",
       "    </tr>\n",
       "    <tr>\n",
       "      <th>1</th>\n",
       "      <td>Alabama Plating Company, Inc.</td>\n",
       "      <td>Vincent</td>\n",
       "      <td>ALD004022448</td>\n",
       "      <td>2012-09-18</td>\n",
       "      <td>30.20</td>\n",
       "      <td>No</td>\n",
       "      <td>Site Listing NarrativeSite Progress ProfileFed...</td>\n",
       "      <td>Site Location</td>\n",
       "      <td>Alabama</td>\n",
       "      <td>https://epa.maps.arcgis.com/apps/webappviewer/...</td>\n",
       "      <td>33.399722</td>\n",
       "      <td>-86.405000</td>\n",
       "      <td>1</td>\n",
       "      <td>https://epa.maps.arcgis.com/apps/webappviewer/...</td>\n",
       "      <td>30.20</td>\n",
       "      <td>651 days</td>\n",
       "      <td>2012</td>\n",
       "      <td>01117</td>\n",
       "    </tr>\n",
       "    <tr>\n",
       "      <th>2</th>\n",
       "      <td>American Brass</td>\n",
       "      <td>Headland</td>\n",
       "      <td>ALD981868466</td>\n",
       "      <td>1999-05-10</td>\n",
       "      <td>55.61</td>\n",
       "      <td>No</td>\n",
       "      <td>Site Listing NarrativeSite Progress ProfileFed...</td>\n",
       "      <td>Site Location</td>\n",
       "      <td>Alabama</td>\n",
       "      <td>https://epa.maps.arcgis.com/apps/webappviewer/...</td>\n",
       "      <td>31.325000</td>\n",
       "      <td>-85.404167</td>\n",
       "      <td>2</td>\n",
       "      <td>https://epa.maps.arcgis.com/apps/webappviewer/...</td>\n",
       "      <td>55.61</td>\n",
       "      <td>5531 days</td>\n",
       "      <td>1999</td>\n",
       "      <td>01067</td>\n",
       "    </tr>\n",
       "    <tr>\n",
       "      <th>3</th>\n",
       "      <td>Anniston Army Depot (Southeast Industrial Area)</td>\n",
       "      <td>Anniston</td>\n",
       "      <td>AL3210020027</td>\n",
       "      <td>1989-03-13</td>\n",
       "      <td>51.91</td>\n",
       "      <td>Yes</td>\n",
       "      <td>Site Listing NarrativeSite Progress ProfileFed...</td>\n",
       "      <td>Site Location</td>\n",
       "      <td>Alabama</td>\n",
       "      <td>https://epa.maps.arcgis.com/apps/webappviewer/...</td>\n",
       "      <td>33.659439</td>\n",
       "      <td>-85.969439</td>\n",
       "      <td>3</td>\n",
       "      <td>https://epa.maps.arcgis.com/apps/webappviewer/...</td>\n",
       "      <td>51.91</td>\n",
       "      <td>9241 days</td>\n",
       "      <td>1989</td>\n",
       "      <td>01015</td>\n",
       "    </tr>\n",
       "    <tr>\n",
       "      <th>4</th>\n",
       "      <td>Ciba-Geigy Corp. (McIntosh Plant)</td>\n",
       "      <td>McIntosh</td>\n",
       "      <td>ALD001221902</td>\n",
       "      <td>1984-09-21</td>\n",
       "      <td>53.42</td>\n",
       "      <td>No</td>\n",
       "      <td>Site Listing NarrativeSite Progress ProfileFed...</td>\n",
       "      <td>Site Location</td>\n",
       "      <td>Alabama</td>\n",
       "      <td>https://epa.maps.arcgis.com/apps/webappviewer/...</td>\n",
       "      <td>31.279000</td>\n",
       "      <td>-87.995500</td>\n",
       "      <td>4</td>\n",
       "      <td>https://epa.maps.arcgis.com/apps/webappviewer/...</td>\n",
       "      <td>53.42</td>\n",
       "      <td>10875 days</td>\n",
       "      <td>1984</td>\n",
       "      <td>01129</td>\n",
       "    </tr>\n",
       "  </tbody>\n",
       "</table>\n",
       "</div>"
      ],
      "text/plain": [
       "                                         Site Name          City  \\\n",
       "0                    Alabama Army Ammunition Plant  Childersburg   \n",
       "1                    Alabama Plating Company, Inc.       Vincent   \n",
       "2                                   American Brass      Headland   \n",
       "3  Anniston Army Depot (Southeast Industrial Area)      Anniston   \n",
       "4                Ciba-Geigy Corp. (McIntosh Plant)      McIntosh   \n",
       "\n",
       "    Site EPA ID Listing Date Site Score FederalFacilityIndicator  \\\n",
       "0  AL6210020008   1987-07-22      36.83                      Yes   \n",
       "1  ALD004022448   2012-09-18      30.20                       No   \n",
       "2  ALD981868466   1999-05-10      55.61                       No   \n",
       "3  AL3210020027   1989-03-13      51.91                      Yes   \n",
       "4  ALD001221902   1984-09-21      53.42                       No   \n",
       "\n",
       "                              Additional Information  Site Location    State  \\\n",
       "0  Site Listing NarrativeSite Progress ProfileFed...  Site Location  Alabama   \n",
       "1  Site Listing NarrativeSite Progress ProfileFed...  Site Location  Alabama   \n",
       "2  Site Listing NarrativeSite Progress ProfileFed...  Site Location  Alabama   \n",
       "3  Site Listing NarrativeSite Progress ProfileFed...  Site Location  Alabama   \n",
       "4  Site Listing NarrativeSite Progress ProfileFed...  Site Location  Alabama   \n",
       "\n",
       "                                                 URL   latitude  longitude  \\\n",
       "0  https://epa.maps.arcgis.com/apps/webappviewer/...  33.338100 -86.326800   \n",
       "1  https://epa.maps.arcgis.com/apps/webappviewer/...  33.399722 -86.405000   \n",
       "2  https://epa.maps.arcgis.com/apps/webappviewer/...  31.325000 -85.404167   \n",
       "3  https://epa.maps.arcgis.com/apps/webappviewer/...  33.659439 -85.969439   \n",
       "4  https://epa.maps.arcgis.com/apps/webappviewer/...  31.279000 -87.995500   \n",
       "\n",
       "   test_index                                           test_url  site_score  \\\n",
       "0           0  https://epa.maps.arcgis.com/apps/webappviewer/...       36.83   \n",
       "1           1  https://epa.maps.arcgis.com/apps/webappviewer/...       30.20   \n",
       "2           2  https://epa.maps.arcgis.com/apps/webappviewer/...       55.61   \n",
       "3           3  https://epa.maps.arcgis.com/apps/webappviewer/...       51.91   \n",
       "4           4  https://epa.maps.arcgis.com/apps/webappviewer/...       53.42   \n",
       "\n",
       "   site_time  listing_year   fips  \n",
       "0  9841 days          1987  01121  \n",
       "1   651 days          2012  01117  \n",
       "2  5531 days          1999  01067  \n",
       "3  9241 days          1989  01015  \n",
       "4 10875 days          1984  01129  "
      ]
     },
     "execution_count": 19,
     "metadata": {},
     "output_type": "execute_result"
    }
   ],
   "source": [
    "df_sites.head()"
   ]
  },
  {
   "cell_type": "code",
   "execution_count": 20,
   "metadata": {},
   "outputs": [],
   "source": [
    "df_sites['one'] = 1"
   ]
  },
  {
   "cell_type": "code",
   "execution_count": 21,
   "metadata": {},
   "outputs": [],
   "source": [
    "df_sites_summary = df_sites.groupby('fips')[['site_score','listing_year']].mean().reset_index().rename(columns = {'site_score' : 'avg_site_score', 'listing_year' : 'avg_listing_year'})\n",
    "df_sites_summary['sum_site_score'] = df_sites.groupby('fips')['site_score'].sum().reset_index().rename(columns = {'site_score' : 'sum_site_score'})['sum_site_score']\n",
    "df_sites_summary['num_sites'] = df_sites.groupby('fips')['one'].sum().reset_index().rename(columns = {'one' : 'num_sites'})['num_sites']"
   ]
  },
  {
   "cell_type": "code",
   "execution_count": 22,
   "metadata": {},
   "outputs": [
    {
     "data": {
      "text/html": [
       "<div>\n",
       "<style scoped>\n",
       "    .dataframe tbody tr th:only-of-type {\n",
       "        vertical-align: middle;\n",
       "    }\n",
       "\n",
       "    .dataframe tbody tr th {\n",
       "        vertical-align: top;\n",
       "    }\n",
       "\n",
       "    .dataframe thead th {\n",
       "        text-align: right;\n",
       "    }\n",
       "</style>\n",
       "<table border=\"1\" class=\"dataframe\">\n",
       "  <thead>\n",
       "    <tr style=\"text-align: right;\">\n",
       "      <th></th>\n",
       "      <th>fips</th>\n",
       "      <th>avg_site_score</th>\n",
       "      <th>avg_listing_year</th>\n",
       "      <th>sum_site_score</th>\n",
       "      <th>num_sites</th>\n",
       "    </tr>\n",
       "  </thead>\n",
       "  <tbody>\n",
       "    <tr>\n",
       "      <th>0</th>\n",
       "      <td>01015</td>\n",
       "      <td>51.910</td>\n",
       "      <td>1989.0</td>\n",
       "      <td>51.91</td>\n",
       "      <td>1</td>\n",
       "    </tr>\n",
       "    <tr>\n",
       "      <th>1</th>\n",
       "      <td>01067</td>\n",
       "      <td>55.610</td>\n",
       "      <td>1999.0</td>\n",
       "      <td>55.61</td>\n",
       "      <td>1</td>\n",
       "    </tr>\n",
       "    <tr>\n",
       "      <th>2</th>\n",
       "      <td>01073</td>\n",
       "      <td>42.860</td>\n",
       "      <td>1986.0</td>\n",
       "      <td>42.86</td>\n",
       "      <td>1</td>\n",
       "    </tr>\n",
       "    <tr>\n",
       "      <th>3</th>\n",
       "      <td>01089</td>\n",
       "      <td>50.000</td>\n",
       "      <td>1994.0</td>\n",
       "      <td>50.00</td>\n",
       "      <td>1</td>\n",
       "    </tr>\n",
       "    <tr>\n",
       "      <th>4</th>\n",
       "      <td>01097</td>\n",
       "      <td>39.555</td>\n",
       "      <td>1984.0</td>\n",
       "      <td>79.11</td>\n",
       "      <td>2</td>\n",
       "    </tr>\n",
       "  </tbody>\n",
       "</table>\n",
       "</div>"
      ],
      "text/plain": [
       "    fips  avg_site_score  avg_listing_year  sum_site_score  num_sites\n",
       "0  01015          51.910            1989.0           51.91          1\n",
       "1  01067          55.610            1999.0           55.61          1\n",
       "2  01073          42.860            1986.0           42.86          1\n",
       "3  01089          50.000            1994.0           50.00          1\n",
       "4  01097          39.555            1984.0           79.11          2"
      ]
     },
     "execution_count": 22,
     "metadata": {},
     "output_type": "execute_result"
    }
   ],
   "source": [
    "df_sites_summary.head()"
   ]
  },
  {
   "cell_type": "code",
   "execution_count": 23,
   "metadata": {},
   "outputs": [
    {
     "data": {
      "text/html": [
       "<div>\n",
       "<style scoped>\n",
       "    .dataframe tbody tr th:only-of-type {\n",
       "        vertical-align: middle;\n",
       "    }\n",
       "\n",
       "    .dataframe tbody tr th {\n",
       "        vertical-align: top;\n",
       "    }\n",
       "\n",
       "    .dataframe thead th {\n",
       "        text-align: right;\n",
       "    }\n",
       "</style>\n",
       "<table border=\"1\" class=\"dataframe\">\n",
       "  <thead>\n",
       "    <tr style=\"text-align: right;\">\n",
       "      <th></th>\n",
       "      <th>avg_site_score</th>\n",
       "      <th>avg_listing_year</th>\n",
       "      <th>sum_site_score</th>\n",
       "      <th>num_sites</th>\n",
       "    </tr>\n",
       "  </thead>\n",
       "  <tbody>\n",
       "    <tr>\n",
       "      <th>count</th>\n",
       "      <td>628.000000</td>\n",
       "      <td>636.000000</td>\n",
       "      <td>636.000000</td>\n",
       "      <td>636.000000</td>\n",
       "    </tr>\n",
       "    <tr>\n",
       "      <th>mean</th>\n",
       "      <td>44.080286</td>\n",
       "      <td>1992.527063</td>\n",
       "      <td>86.104717</td>\n",
       "      <td>2.007862</td>\n",
       "    </tr>\n",
       "    <tr>\n",
       "      <th>std</th>\n",
       "      <td>8.283998</td>\n",
       "      <td>8.214174</td>\n",
       "      <td>95.719869</td>\n",
       "      <td>2.196260</td>\n",
       "    </tr>\n",
       "    <tr>\n",
       "      <th>min</th>\n",
       "      <td>28.590000</td>\n",
       "      <td>1983.000000</td>\n",
       "      <td>0.000000</td>\n",
       "      <td>1.000000</td>\n",
       "    </tr>\n",
       "    <tr>\n",
       "      <th>25%</th>\n",
       "      <td>37.930000</td>\n",
       "      <td>1986.000000</td>\n",
       "      <td>39.972500</td>\n",
       "      <td>1.000000</td>\n",
       "    </tr>\n",
       "    <tr>\n",
       "      <th>50%</th>\n",
       "      <td>44.745833</td>\n",
       "      <td>1990.000000</td>\n",
       "      <td>50.000000</td>\n",
       "      <td>1.000000</td>\n",
       "    </tr>\n",
       "    <tr>\n",
       "      <th>75%</th>\n",
       "      <td>50.000000</td>\n",
       "      <td>1997.000000</td>\n",
       "      <td>96.775000</td>\n",
       "      <td>2.000000</td>\n",
       "    </tr>\n",
       "    <tr>\n",
       "      <th>max</th>\n",
       "      <td>84.910000</td>\n",
       "      <td>2014.000000</td>\n",
       "      <td>752.920000</td>\n",
       "      <td>22.000000</td>\n",
       "    </tr>\n",
       "  </tbody>\n",
       "</table>\n",
       "</div>"
      ],
      "text/plain": [
       "       avg_site_score  avg_listing_year  sum_site_score   num_sites\n",
       "count      628.000000        636.000000      636.000000  636.000000\n",
       "mean        44.080286       1992.527063       86.104717    2.007862\n",
       "std          8.283998          8.214174       95.719869    2.196260\n",
       "min         28.590000       1983.000000        0.000000    1.000000\n",
       "25%         37.930000       1986.000000       39.972500    1.000000\n",
       "50%         44.745833       1990.000000       50.000000    1.000000\n",
       "75%         50.000000       1997.000000       96.775000    2.000000\n",
       "max         84.910000       2014.000000      752.920000   22.000000"
      ]
     },
     "execution_count": 23,
     "metadata": {},
     "output_type": "execute_result"
    }
   ],
   "source": [
    "df_sites_summary.describe()"
   ]
  },
  {
   "cell_type": "code",
   "execution_count": 35,
   "metadata": {},
   "outputs": [],
   "source": [
    "df_fips = pickle.load(open('df_fips.pkl','rb'))\n",
    "df_sites_summary = df_sites_summary.merge(df_fips, how = 'outer')\n",
    "df_sites_summary['num_sites'] = df_sites_summary['num_sites'].fillna(0).astype('int')"
   ]
  },
  {
   "cell_type": "code",
   "execution_count": 36,
   "metadata": {},
   "outputs": [
    {
     "data": {
      "text/html": [
       "<div>\n",
       "<style scoped>\n",
       "    .dataframe tbody tr th:only-of-type {\n",
       "        vertical-align: middle;\n",
       "    }\n",
       "\n",
       "    .dataframe tbody tr th {\n",
       "        vertical-align: top;\n",
       "    }\n",
       "\n",
       "    .dataframe thead th {\n",
       "        text-align: right;\n",
       "    }\n",
       "</style>\n",
       "<table border=\"1\" class=\"dataframe\">\n",
       "  <thead>\n",
       "    <tr style=\"text-align: right;\">\n",
       "      <th></th>\n",
       "      <th>fips</th>\n",
       "      <th>avg_site_score</th>\n",
       "      <th>avg_listing_year</th>\n",
       "      <th>sum_site_score</th>\n",
       "      <th>num_sites</th>\n",
       "      <th>county</th>\n",
       "      <th>state</th>\n",
       "    </tr>\n",
       "  </thead>\n",
       "  <tbody>\n",
       "    <tr>\n",
       "      <th>0</th>\n",
       "      <td>01015</td>\n",
       "      <td>51.910</td>\n",
       "      <td>1989.0</td>\n",
       "      <td>51.91</td>\n",
       "      <td>1</td>\n",
       "      <td>Calhoun</td>\n",
       "      <td>AL</td>\n",
       "    </tr>\n",
       "    <tr>\n",
       "      <th>1</th>\n",
       "      <td>01067</td>\n",
       "      <td>55.610</td>\n",
       "      <td>1999.0</td>\n",
       "      <td>55.61</td>\n",
       "      <td>1</td>\n",
       "      <td>Henry</td>\n",
       "      <td>AL</td>\n",
       "    </tr>\n",
       "    <tr>\n",
       "      <th>2</th>\n",
       "      <td>01073</td>\n",
       "      <td>42.860</td>\n",
       "      <td>1986.0</td>\n",
       "      <td>42.86</td>\n",
       "      <td>1</td>\n",
       "      <td>Jefferson</td>\n",
       "      <td>AL</td>\n",
       "    </tr>\n",
       "    <tr>\n",
       "      <th>3</th>\n",
       "      <td>01089</td>\n",
       "      <td>50.000</td>\n",
       "      <td>1994.0</td>\n",
       "      <td>50.00</td>\n",
       "      <td>1</td>\n",
       "      <td>Madison</td>\n",
       "      <td>AL</td>\n",
       "    </tr>\n",
       "    <tr>\n",
       "      <th>4</th>\n",
       "      <td>01097</td>\n",
       "      <td>39.555</td>\n",
       "      <td>1984.0</td>\n",
       "      <td>79.11</td>\n",
       "      <td>2</td>\n",
       "      <td>Mobile</td>\n",
       "      <td>AL</td>\n",
       "    </tr>\n",
       "  </tbody>\n",
       "</table>\n",
       "</div>"
      ],
      "text/plain": [
       "    fips  avg_site_score  avg_listing_year  sum_site_score  num_sites  \\\n",
       "0  01015          51.910            1989.0           51.91          1   \n",
       "1  01067          55.610            1999.0           55.61          1   \n",
       "2  01073          42.860            1986.0           42.86          1   \n",
       "3  01089          50.000            1994.0           50.00          1   \n",
       "4  01097          39.555            1984.0           79.11          2   \n",
       "\n",
       "      county state  \n",
       "0    Calhoun    AL  \n",
       "1      Henry    AL  \n",
       "2  Jefferson    AL  \n",
       "3    Madison    AL  \n",
       "4     Mobile    AL  "
      ]
     },
     "execution_count": 36,
     "metadata": {},
     "output_type": "execute_result"
    }
   ],
   "source": [
    "df_sites_summary.head()"
   ]
  },
  {
   "cell_type": "code",
   "execution_count": 37,
   "metadata": {},
   "outputs": [
    {
     "data": {
      "text/html": [
       "<div>\n",
       "<style scoped>\n",
       "    .dataframe tbody tr th:only-of-type {\n",
       "        vertical-align: middle;\n",
       "    }\n",
       "\n",
       "    .dataframe tbody tr th {\n",
       "        vertical-align: top;\n",
       "    }\n",
       "\n",
       "    .dataframe thead th {\n",
       "        text-align: right;\n",
       "    }\n",
       "</style>\n",
       "<table border=\"1\" class=\"dataframe\">\n",
       "  <thead>\n",
       "    <tr style=\"text-align: right;\">\n",
       "      <th></th>\n",
       "      <th>fips</th>\n",
       "      <th>avg_site_score</th>\n",
       "      <th>avg_listing_year</th>\n",
       "      <th>sum_site_score</th>\n",
       "      <th>num_sites</th>\n",
       "      <th>county</th>\n",
       "      <th>state</th>\n",
       "    </tr>\n",
       "  </thead>\n",
       "  <tbody>\n",
       "  </tbody>\n",
       "</table>\n",
       "</div>"
      ],
      "text/plain": [
       "Empty DataFrame\n",
       "Columns: [fips, avg_site_score, avg_listing_year, sum_site_score, num_sites, county, state]\n",
       "Index: []"
      ]
     },
     "execution_count": 37,
     "metadata": {},
     "output_type": "execute_result"
    }
   ],
   "source": [
    "df_sites_summary[pd.isna(df_sites_summary['num_sites'])]"
   ]
  },
  {
   "cell_type": "code",
   "execution_count": 38,
   "metadata": {},
   "outputs": [],
   "source": [
    "pickle.dump(df_sites_summary,open('df_superfund_summary.pkl','wb'))"
   ]
  },
  {
   "cell_type": "code",
   "execution_count": null,
   "metadata": {},
   "outputs": [],
   "source": []
  }
 ],
 "metadata": {
  "kernelspec": {
   "display_name": "Python 3",
   "language": "python",
   "name": "python3"
  },
  "language_info": {
   "codemirror_mode": {
    "name": "ipython",
    "version": 3
   },
   "file_extension": ".py",
   "mimetype": "text/x-python",
   "name": "python",
   "nbconvert_exporter": "python",
   "pygments_lexer": "ipython3",
   "version": "3.7.4"
  }
 },
 "nbformat": 4,
 "nbformat_minor": 4
}
